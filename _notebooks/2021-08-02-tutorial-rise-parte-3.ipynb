{
 "cells": [
  {
   "cell_type": "markdown",
   "metadata": {
    "slideshow": {
     "slide_type": "skip"
    }
   },
   "source": [
    "# Tutorial de RISE - parte 3\n",
    "> Usando jupyter notebooks para presentaciones interactivas - aspectos avanzados\n",
    "\n",
    "- featured: true\n",
    "- hide: true\n",
    "- toc: false \n",
    "- badges: true\n",
    "- comments: true\n",
    "- categories: [jupyter, rise]\n",
    "- image: 2021-08-01-rise/basic_usage.gif\n",
    "- permalink: /tutorial-rise-3/"
   ]
  },
  {
   "cell_type": "markdown",
   "metadata": {
    "slideshow": {
     "slide_type": "slide"
    }
   },
   "source": [
    "#### Lo avanzado\n",
    "## IPython.Display\n",
    "Audio\n",
    "Video\n",
    "HTML\n",
    "repl"
   ]
  },
  {
   "cell_type": "markdown",
   "metadata": {
    "slideshow": {
     "slide_type": "slide"
    }
   },
   "source": [
    "#### Lo avanzado\n",
    "## Ipywidgets\n",
    "Matpllotlib widgets"
   ]
  },
  {
   "cell_type": "markdown",
   "metadata": {
    "slideshow": {
     "slide_type": "slide"
    }
   },
   "source": [
    "#### Lo avanzado\n",
    "## Columnas\n",
    "Como las celdas de markdown aceptan html, es posible usar varios trucos. \n",
    "Como por ejemplo poner doble columna… para tener 1 columna con texto y otra con imagen.\n",
    "\n",
    "O por ejemplo, hacer animaciones...\n"
   ]
  },
  {
   "cell_type": "markdown",
   "metadata": {
    "slideshow": {
     "slide_type": "slide"
    }
   },
   "source": [
    "#### Lo avanzado\n",
    "## Encuestas\n",
    "Algo que aprendí es que es muy importante hacer 3 preguntas al finalizar toda presentación. "
   ]
  },
  {
   "cell_type": "markdown",
   "metadata": {
    "slideshow": {
     "slide_type": "slide"
    }
   },
   "source": [
    "#### Lo avanzado\n",
    "## Almacenar en github + requeriments.txt\n",
    "\n",
    "Almacenando en github con un requirements.txt permite que la presentación pueda abrirse con binder."
   ]
  },
  {
   "cell_type": "markdown",
   "metadata": {
    "slideshow": {
     "slide_type": "slide"
    }
   },
   "source": [
    "#### Lo avanzado\n",
    "## Portar tus presentaciones a notebook+RISEs: ppt2rise\n",
    "Si tienes una presentación en powerpoint, puedes convertirla automáticamente. Eso te ahorrará mucho tiempo.\n",
    "\n",
    "IMAGEN CONVERTIR."
   ]
  },
  {
   "cell_type": "markdown",
   "metadata": {
    "slideshow": {
     "slide_type": "slide"
    }
   },
   "source": [
    "#### Lo avanzado\n",
    "## Teclado inalámbrico\n",
    "Un teclado inalámbrico ayuda en contextos presenciales. Ya no es tan importante. (Quizas eliminar)."
   ]
  },
  {
   "cell_type": "markdown",
   "metadata": {
    "slideshow": {
     "slide_type": "slide"
    }
   },
   "source": [
    "#### Lo avanzado\n",
    "## Definiendo el aspecto total (overlay) (Documentar pero no presentar)\n",
    "If you define overlay, in which case you take full control,\n",
    "or you can define header, footer and backimage.\n",
    "So if you define overlay, the 3 latter options will be ignored.\n",
    "\n",
    "overlay\n",
    "It is possible to add the config option overlay to build a constant background. It is wrapped in a<div>, so it can be text or html. In this case, the user is entirely responsible for styling. For example:\n",
    "\n",
    "```json\n",
    "{\n",
    " ...\n",
    " \"rise\": {\n",
    "     \"overlay\": \"<div class='myheader'><h2>my company</h2></div><div class='myfooter'><h2>the date</h2></div>\"\n",
    " }\n",
    "}\n",
    "```\n",
    "    header, footer and backimage\n"
   ]
  },
  {
   "cell_type": "markdown",
   "metadata": {
    "slideshow": {
     "slide_type": "slide"
    }
   },
   "source": [
    "#### Lo avanzado\n",
    "## Adding custom CSS\n",
    "RISE looks for two css files to apply CSS changes on top of the slideshow view:\n",
    "\n",
    "First, it attemps to load rise.css, and hence this will be applied to all notebooks in the current directory;\n",
    "Second, it attempts to load the_notebook_name.css and so this will hence be only applied to the_notebook_name.ipynb.\n",
    "Both files need to be placed alongside with the notebook of interest, i.e. in the same directory. You can see some examples using this customization with RISE/examples/showflow.ipynb.\n"
   ]
  }
 ],
 "metadata": {
  "celltoolbar": "Slideshow",
  "kernelspec": {
   "display_name": "Python 3 (ipykernel)",
   "language": "python",
   "name": "python3"
  },
  "language_info": {
   "codemirror_mode": {
    "name": "ipython",
    "version": 3
   },
   "file_extension": ".py",
   "mimetype": "text/x-python",
   "name": "python",
   "nbconvert_exporter": "python",
   "pygments_lexer": "ipython3",
   "version": "3.7.4"
  },
  "nbTranslate": {
   "displayLangs": [
    "*"
   ],
   "hotkey": "alt-t",
   "langInMainMenu": true,
   "sourceLang": "en",
   "targetLang": "fr",
   "useGoogleTranslate": true
  },
  "rise": {
   "_backimage": "path/to/mybackimage.png",
   "_footer": "<h3>NAME, DATE</h3>",
   "_header": "<h1>PRESENTATION NAME // EVENTs</h1>",
   "_theme_options": [
    "black",
    "white",
    "league",
    "beige",
    "sky",
    "night",
    "serif"
   ],
   "_transition_options": [
    "none",
    "fade",
    "slide",
    "convex",
    "concave",
    "zoom"
   ],
   "autolauch": true,
   "enable_chalkboard": true,
   "theme": "serif",
   "transition": "slide"
  },
  "varInspector": {
   "cols": {
    "lenName": 16,
    "lenType": 16,
    "lenVar": 40
   },
   "kernels_config": {
    "python": {
     "delete_cmd_postfix": "",
     "delete_cmd_prefix": "del ",
     "library": "var_list.py",
     "varRefreshCmd": "print(var_dic_list())"
    },
    "r": {
     "delete_cmd_postfix": ") ",
     "delete_cmd_prefix": "rm(",
     "library": "var_list.r",
     "varRefreshCmd": "cat(var_dic_list()) "
    }
   },
   "types_to_exclude": [
    "module",
    "function",
    "builtin_function_or_method",
    "instance",
    "_Feature"
   ],
   "window_display": false
  }
 },
 "nbformat": 4,
 "nbformat_minor": 4
}
