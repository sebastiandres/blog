{
 "cells": [
  {
   "cell_type": "markdown",
   "id": "f34d06e1",
   "metadata": {},
   "source": [
    "# IPython Display - componentes web\n",
    "> Componentes web para agregar interactividad a Jupyter Notebook/Lab.\n",
    "\n",
    "- featured: false\n",
    "- hide: false\n",
    "- toc: true\n",
    "- badges: true\n",
    "- comments: true\n",
    "- categories: [jupyter, rise]\n",
    "- image: images/preview/jupyter.png"
   ]
  },
  {
   "cell_type": "markdown",
   "id": "d705e4ec",
   "metadata": {},
   "source": [
    "# IPython.Display - la parte web\n",
    "\n",
    "En IPython.display existen 23 clases que son muy prácticas para agregar interactividad a Jupyter Notebook/Lab.\n",
    "\n",
    "**Acá probamos únicamente 3 que se relacionan con la web: IFrame, HTML, Javascript.**"
   ]
  },
  {
   "cell_type": "markdown",
   "id": "d3bba270",
   "metadata": {},
   "source": [
    "## 1. Antes de: principales errores\n",
    "\n",
    "### 1.1 Usando display generosamente \n",
    "Mi principal aprendizaje es que IPython.display genera **objetos** de distintos tipos. \n",
    "Los objetos no se muestran o ejecutan por defecto. \n",
    "Si el objeto es el resultado de la celda, el objeto **si** se despliega o ejecuta. \n",
    "\n",
    "Si no es el resultado de la celda, no se muestra/ejecuta, a menos que se use el método display. "
   ]
  },
  {
   "cell_type": "markdown",
   "id": "d3cb003d",
   "metadata": {},
   "source": [
    "### Diferencias entre hermanos\n",
    "\n",
    "Jupyter Notebook, Jupyter Lab y Google Colab no son completamente similares. Hasta ahora, lo que he visto:\n",
    "* En Google Colab está IPython 5.0.0. No es lo mejor para evaluar javascript. De hecho, hay funciones que no existen: `alert` y `prompt` no están.\n",
    "\n",
    "Link interesante: https://colab.research.google.com/notebooks/snippets/advanced_outputs.ipynb#scrollTo=iXZ0xoQd2kCe"
   ]
  },
  {
   "cell_type": "markdown",
   "id": "20335830",
   "metadata": {},
   "source": [
    "## 2. Páginas web"
   ]
  },
  {
   "cell_type": "markdown",
   "id": "b81607f5",
   "metadata": {},
   "source": [
    "### 2.1 IFrame\n",
    "\n",
    "```python\n",
    "IFrame(src, \n",
    "       width, \n",
    "       height, \n",
    "       **kwargs)\n",
    "```\n",
    "\n",
    "Permite insertar una página web como un IFrame (inline frame). La página debe permitirlo (no todas lo hacen). \n",
    "Por ejemplo, para insertar una encuesta o una referencia en un jupyter notebook o una presentación con RISE.\n",
    "\n",
    "Métodos o atributos del objeto creado:\n",
    "* `iframe`: String con la representación HTML del objeto. No es muy útil."
   ]
  },
  {
   "cell_type": "code",
   "execution_count": 5,
   "id": "9ec5b75c",
   "metadata": {},
   "outputs": [
    {
     "data": {
      "text/html": [
       "\n",
       "        <iframe\n",
       "            width=\"800\"\n",
       "            height=\"400\"\n",
       "            src=\"https://es.wikipedia.org/wiki/IFrame\"\n",
       "            frameborder=\"0\"\n",
       "            allowfullscreen\n",
       "        ></iframe>\n",
       "        "
      ],
      "text/plain": [
       "<IPython.lib.display.IFrame at 0x111b3b310>"
      ]
     },
     "execution_count": 5,
     "metadata": {},
     "output_type": "execute_result"
    }
   ],
   "source": [
    "from IPython.display import IFrame\n",
    "IFrame(\"https://es.wikipedia.org/wiki/IFrame\", width=800, height=400)"
   ]
  },
  {
   "cell_type": "markdown",
   "id": "994773ae",
   "metadata": {},
   "source": [
    "Para más información, ver la documentación con `IFrame.?`"
   ]
  },
  {
   "cell_type": "markdown",
   "id": "6c0b5756",
   "metadata": {},
   "source": [
    "### 2.2 Javascript\n",
    "\n",
    "```python\n",
    "Javascript(data=None, \n",
    "           url=None, \n",
    "           filename=None, \n",
    "           lib=None, \n",
    "           css=None)\n",
    "```\n",
    "\n",
    "Carga el código javascript en la página. En el notebook, el elemento conteneder será `element`,\n",
    "y jQuery estará disponible. Contenido agregado a `element` serán visibles en la área de output.\n",
    "\n",
    "Métodos o atributos del objeto creado:\n",
    "* **metadata**: Atributo string con la metadata con la que fue creado el objeto.\n",
    "* **reaload**: Método para recargar el contenido del objeto, si fue creado desde url o archivo."
   ]
  },
  {
   "cell_type": "code",
   "execution_count": 6,
   "id": "c3caf072",
   "metadata": {},
   "outputs": [
    {
     "data": {
      "application/javascript": [
       "alert(\"¡¡Tenemos javascript!!\");"
      ],
      "text/plain": [
       "<IPython.core.display.Javascript object>"
      ]
     },
     "execution_count": 6,
     "metadata": {},
     "output_type": "execute_result"
    }
   ],
   "source": [
    "# Alert - no funciona en Google Colab\n",
    "from IPython.display import Javascript\n",
    "Javascript('alert(\"¡¡Tenemos javascript!!\");')"
   ]
  },
  {
   "cell_type": "code",
   "execution_count": 7,
   "id": "62b2ebe5",
   "metadata": {},
   "outputs": [
    {
     "data": {
      "application/javascript": [
       "console.log(\"¡¡Tenemos javascript!!\");"
      ],
      "text/plain": [
       "<IPython.core.display.Javascript object>"
      ]
     },
     "execution_count": 7,
     "metadata": {},
     "output_type": "execute_result"
    }
   ],
   "source": [
    "# Console.log - funciona siempre\n",
    "from IPython.display import Javascript\n",
    "Javascript('console.log(\"¡¡Tenemos javascript!!\");')"
   ]
  },
  {
   "cell_type": "code",
   "execution_count": 8,
   "id": "1d956827",
   "metadata": {},
   "outputs": [
    {
     "data": {
      "application/javascript": [
       "\n",
       "var a = 1;\n",
       "console.log(\"JS1: a = \"+a);\n",
       "var b = 2;\n",
       "console.log(\"JS1: b = \" + b);\n",
       "console.log(\"JS1: a+b = \" + (a+b));\n"
      ],
      "text/plain": [
       "<IPython.core.display.Javascript object>"
      ]
     },
     "execution_count": 8,
     "metadata": {},
     "output_type": "execute_result"
    }
   ],
   "source": [
    "# Ejecutando javascript\n",
    "from IPython.display import Javascript\n",
    "js_str = \"\"\"\n",
    "var a = 1;\n",
    "console.log(\"JS1: a = \"+a);\n",
    "var b = 2;\n",
    "console.log(\"JS1: b = \" + b);\n",
    "console.log(\"JS1: a+b = \" + (a+b));\n",
    "\"\"\"\n",
    "Javascript(js_str)"
   ]
  },
  {
   "cell_type": "code",
   "execution_count": 19,
   "id": "3378f150",
   "metadata": {},
   "outputs": [
    {
     "data": {
      "application/javascript": [
       "\n",
       "var a = 1;\n",
       "console.log(\"JS2: a =\"+a);\n"
      ],
      "text/plain": [
       "<IPython.core.display.Javascript object>"
      ]
     },
     "metadata": {},
     "output_type": "display_data"
    },
    {
     "data": {
      "application/javascript": [
       "\n",
       "var b = 2;\n",
       "console.log(\"JS2: b =\" + b);\n",
       "console.log(\"JS2: a+b=\" + (a+b));\n"
      ],
      "text/plain": [
       "<IPython.core.display.Javascript object>"
      ]
     },
     "metadata": {},
     "output_type": "display_data"
    }
   ],
   "source": [
    "# Ejecutando javascript\n",
    "from IPython.display import Javascript, display\n",
    "js_str_1 = \"\"\"\n",
    "var a = 1;\n",
    "console.log(\"JS2: a =\"+a);\n",
    "\"\"\"\n",
    "js_str_2 = \"\"\"\n",
    "var b = 2;\n",
    "console.log(\"JS2: b =\" + b);\n",
    "console.log(\"JS2: a+b=\" + (a+b));\n",
    "\"\"\"\n",
    "js_1 = Javascript(js_str_1)\n",
    "js_2 = Javascript(js_str_2)\n",
    "display(js_1, js_2)"
   ]
  },
  {
   "cell_type": "code",
   "execution_count": 11,
   "id": "f9e63da7",
   "metadata": {},
   "outputs": [
    {
     "data": {
      "text/plain": [
       "\u001b[0;31mInit signature:\u001b[0m \u001b[0mJavascript\u001b[0m\u001b[0;34m(\u001b[0m\u001b[0mdata\u001b[0m\u001b[0;34m=\u001b[0m\u001b[0;32mNone\u001b[0m\u001b[0;34m,\u001b[0m \u001b[0murl\u001b[0m\u001b[0;34m=\u001b[0m\u001b[0;32mNone\u001b[0m\u001b[0;34m,\u001b[0m \u001b[0mfilename\u001b[0m\u001b[0;34m=\u001b[0m\u001b[0;32mNone\u001b[0m\u001b[0;34m,\u001b[0m \u001b[0mlib\u001b[0m\u001b[0;34m=\u001b[0m\u001b[0;32mNone\u001b[0m\u001b[0;34m,\u001b[0m \u001b[0mcss\u001b[0m\u001b[0;34m=\u001b[0m\u001b[0;32mNone\u001b[0m\u001b[0;34m)\u001b[0m\u001b[0;34m\u001b[0m\u001b[0;34m\u001b[0m\u001b[0m\n",
       "\u001b[0;31mDocstring:\u001b[0m      Validate that display data is text\n",
       "\u001b[0;31mInit docstring:\u001b[0m\n",
       "Create a Javascript display object given raw data.\n",
       "\n",
       "When this object is returned by an expression or passed to the\n",
       "display function, it will result in the data being displayed\n",
       "in the frontend. If the data is a URL, the data will first be\n",
       "downloaded and then displayed.\n",
       "\n",
       "In the Notebook, the containing element will be available as `element`,\n",
       "and jQuery will be available.  Content appended to `element` will be\n",
       "visible in the output area.\n",
       "\n",
       "Parameters\n",
       "----------\n",
       "data : unicode, str or bytes\n",
       "    The Javascript source code or a URL to download it from.\n",
       "url : unicode\n",
       "    A URL to download the data from.\n",
       "filename : unicode\n",
       "    Path to a local file to load the data from.\n",
       "lib : list or str\n",
       "    A sequence of Javascript library URLs to load asynchronously before\n",
       "    running the source code. The full URLs of the libraries should\n",
       "    be given. A single Javascript library URL can also be given as a\n",
       "    string.\n",
       "css: : list or str\n",
       "    A sequence of css files to load before running the source code.\n",
       "    The full URLs of the css files should be given. A single css URL\n",
       "    can also be given as a string.\n",
       "\u001b[0;31mFile:\u001b[0m           /miniconda3/lib/python3.7/site-packages/IPython/core/display.py\n",
       "\u001b[0;31mType:\u001b[0m           type\n",
       "\u001b[0;31mSubclasses:\u001b[0m     \n"
      ]
     },
     "metadata": {},
     "output_type": "display_data"
    }
   ],
   "source": [
    "from IPython.display import Javascript\n",
    "Javascript?"
   ]
  },
  {
   "cell_type": "code",
   "execution_count": null,
   "id": "aaa065f0",
   "metadata": {},
   "outputs": [],
   "source": [
    "from IPython.display import Javascript\n",
    "print(\"Methods:\")\n",
    "print(sorted([f for f in dir(Javascript) if not f.startswith('_')]))"
   ]
  },
  {
   "cell_type": "markdown",
   "id": "93fb82e7",
   "metadata": {},
   "source": [
    "### 2.3 HTML\n",
    "\n",
    "```python\n",
    "HTML(data=None, \n",
    "     url=None, \n",
    "     filename=None, \n",
    "     metadata=None)\n",
    "```\n",
    "\n",
    "Observación/Consejos: \n",
    "* No incluir secciones de `<html>`, `<head>` o `<body>`.\n",
    "* El Javascript vive en la celda de notebook, las variables no se traspasan de una celda a otra. Ver los ejemplos al final.\n",
    "* En Google Colab algunas funciones de javascript no están disponibles, en particular 'alert'.\n",
    "\n",
    "Métodos o atributos del objeto creado:\n",
    "* `metadata`: String con la metadata con la que fue creado el objeto.\n",
    "* `reaload()`: Método para recargar el contenido del objeto, si fue creado desde url o archivo."
   ]
  },
  {
   "cell_type": "code",
   "execution_count": 12,
   "id": "72fc240a",
   "metadata": {},
   "outputs": [
    {
     "data": {
      "text/html": [
       "<div style='background-color:lightblue'>Este es un ejemplo.</div>"
      ],
      "text/plain": [
       "<IPython.core.display.HTML object>"
      ]
     },
     "execution_count": 12,
     "metadata": {},
     "output_type": "execute_result"
    }
   ],
   "source": [
    "# Ejemplo 1: HTML simple\n",
    "from IPython.display import HTML\n",
    "HTML(\"<div style='background-color:lightblue'>Este es un ejemplo.</div>\")"
   ]
  },
  {
   "cell_type": "code",
   "execution_count": 7,
   "id": "a51b156a",
   "metadata": {},
   "outputs": [
    {
     "data": {
      "text/html": [
       "\n",
       "<script>\n",
       "function button_action(value){\n",
       "  var msg = 'La variable tiene valor '+ value;\n",
       "  console.log(msg);\n",
       "  alert(msg);\n",
       "};\n",
       "</script>\n",
       "\n",
       "<div> \n",
       "Variable: \n",
       "<input type='text' id='my_input_form' value='42'> \n",
       "<button onclick='button_action(document.getElementById(\"my_input_form\").value)'>Click</button>\n",
       "</div>\n"
      ],
      "text/plain": [
       "<IPython.core.display.HTML object>"
      ]
     },
     "execution_count": 7,
     "metadata": {},
     "output_type": "execute_result"
    }
   ],
   "source": [
    "# Ejemplo 2: HTML con javascript\n",
    "# Ver resultado con la consola de javascript\n",
    "from IPython.display import HTML\n",
    "my_html = \"\"\"\n",
    "<script>\n",
    "function button_action(value){\n",
    "  var msg = 'La variable tiene valor '+ value;\n",
    "  console.log(msg);\n",
    "  alert(msg);\n",
    "};\n",
    "</script>\n",
    "\n",
    "<div> \n",
    "Variable: \n",
    "<input type='text' id='my_input_form' value='42'> \n",
    "<button onclick='button_action(document.getElementById(\"my_input_form\").value)'>Click</button>\n",
    "</div>\n",
    "\"\"\"\n",
    "HTML(data=my_html)"
   ]
  },
  {
   "cell_type": "code",
   "execution_count": 14,
   "id": "33bfd909",
   "metadata": {},
   "outputs": [
    {
     "data": {
      "text/html": [
       "<h1>Título Página HTM</h1>\n",
       "\n",
       "<div id = \"navigation\">\n",
       "\n",
       "<p>\n",
       "  <label>Un título</label><br />\n",
       "  <textarea name=\"comment\" rows = \"4\"\n",
       "  cols = \"30\">Un texto</textarea> \n",
       "</p>\n",
       "\n",
       "<p>\n",
       "  <label>Una encuesta</label><br />\n",
       "  <input type=\"radio\" name=\"graph\"\n",
       "  value=\"1\" title=\"Straight line\" checked>Opción 1<br>\n",
       "  <input type=\"radio\" name=\"graph\" value=\"2\" title=\"Curve\">Opción 2<br>\n",
       "</p>\n",
       "    \n",
       "</div>"
      ],
      "text/plain": [
       "<IPython.core.display.HTML object>"
      ]
     },
     "execution_count": 14,
     "metadata": {},
     "output_type": "execute_result"
    }
   ],
   "source": [
    "# Ejemplo 3: filename\n",
    "from IPython.display import HTML\n",
    "my_filename = \"html/ejemplo.html\"\n",
    "HTML(filename=my_filename)"
   ]
  },
  {
   "cell_type": "code",
   "execution_count": 15,
   "id": "d899d462",
   "metadata": {},
   "outputs": [
    {
     "data": {
      "text/html": [
       "<h1>Título Página HTM</h1>\n",
       "\n",
       "<div id = \"navigation\">\n",
       "\n",
       "<p>\n",
       "  <label>Un título</label><br />\n",
       "  <textarea name=\"comment\" rows = \"4\"\n",
       "  cols = \"30\">Un texto</textarea> \n",
       "</p>\n",
       "\n",
       "<p>\n",
       "  <label>Una encuesta</label><br />\n",
       "  <input type=\"radio\" name=\"graph\"\n",
       "  value=\"1\" title=\"Straight line\" checked>Opción 1<br>\n",
       "  <input type=\"radio\" name=\"graph\" value=\"2\" title=\"Curve\">Opción 2<br>\n",
       "</p>\n",
       "    \n",
       "</div>"
      ],
      "text/plain": [
       "<IPython.core.display.HTML object>"
      ]
     },
     "execution_count": 15,
     "metadata": {},
     "output_type": "execute_result"
    }
   ],
   "source": [
    "# Ejemplo 4: url\n",
    "from IPython.display import HTML\n",
    "my_url = \"https://raw.githubusercontent.com/sebastiandres/2021-05-IPython-display/master/html/ejemplo.html\"\n",
    "HTML(url=my_url)"
   ]
  },
  {
   "cell_type": "code",
   "execution_count": 16,
   "id": "b4496c47",
   "metadata": {},
   "outputs": [
    {
     "data": {
      "text/html": [
       "\n",
       "<script>\n",
       "var a = 1;\n",
       "console.log(\"HTML: a =\"+a);\n",
       "</script>\n"
      ],
      "text/plain": [
       "<IPython.core.display.HTML object>"
      ]
     },
     "execution_count": 16,
     "metadata": {},
     "output_type": "execute_result"
    }
   ],
   "source": [
    "# Ejecutando javascript desde HTML\n",
    "from IPython.display import HTML\n",
    "my_html = \"\"\"\n",
    "<script>\n",
    "var a = 1;\n",
    "console.log(\"HTML: a =\"+a);\n",
    "</script>\n",
    "\"\"\"\n",
    "HTML(my_html)"
   ]
  },
  {
   "cell_type": "markdown",
   "id": "0d26d04a",
   "metadata": {},
   "source": [
    "Más información"
   ]
  },
  {
   "cell_type": "code",
   "execution_count": null,
   "id": "49b7b880",
   "metadata": {},
   "outputs": [],
   "source": [
    "from IPython.display import HTML\n",
    "HTML?"
   ]
  },
  {
   "cell_type": "code",
   "execution_count": null,
   "id": "1a8478a6",
   "metadata": {},
   "outputs": [],
   "source": [
    "from IPython.display import HTML\n",
    "print(\"Methods:\")\n",
    "print(sorted([f for f in dir(HTML) if not f.startswith('_')]))"
   ]
  },
  {
   "cell_type": "markdown",
   "id": "ac2426be",
   "metadata": {},
   "source": [
    "## 3. Experimentos"
   ]
  },
  {
   "cell_type": "markdown",
   "id": "33920b49",
   "metadata": {},
   "source": [
    "### 3.1 Experimento HTML 1:\n",
    "Valores de variables no se traspasan de una celda a otra. \n",
    "Definiremos `a`en la primera celda, y trataremos de imprimir el valor de `a` en la celda siguiente."
   ]
  },
  {
   "cell_type": "code",
   "execution_count": 20,
   "id": "88c72fee",
   "metadata": {
    "scrolled": true
   },
   "outputs": [
    {
     "data": {
      "text/html": [
       "\n",
       "<script>\n",
       "var num = 42;\n",
       "console.log(\"HTML1A: num = \" + num);\n",
       "</script>\n"
      ],
      "text/plain": [
       "<IPython.core.display.HTML object>"
      ]
     },
     "execution_count": 20,
     "metadata": {},
     "output_type": "execute_result"
    }
   ],
   "source": [
    "# Definir a\n",
    "from IPython.display import HTML\n",
    "my_html = \"\"\"\n",
    "<script>\n",
    "var num = 42;\n",
    "console.log(\"HTML1A: num = \" + num);\n",
    "</script>\n",
    "\"\"\"\n",
    "HTML(my_html)"
   ]
  },
  {
   "cell_type": "code",
   "execution_count": 21,
   "id": "3a897714",
   "metadata": {},
   "outputs": [
    {
     "data": {
      "text/html": [
       "\n",
       "<script>\n",
       "var b = 2;\n",
       "console.log(\"HTML1B1: num =\" + num);\n",
       "console.log(\"HTML1B2: b =\" + b);\n",
       "console.log(\"HTML1B3: num+b=\" + (num+b));\n",
       "</script>\n"
      ],
      "text/plain": [
       "<IPython.core.display.HTML object>"
      ]
     },
     "execution_count": 21,
     "metadata": {},
     "output_type": "execute_result"
    }
   ],
   "source": [
    "# Imprimir a\n",
    "from IPython.display import Javascript\n",
    "my_html = \"\"\"\n",
    "<script>\n",
    "var b = 2;\n",
    "console.log(\"HTML1B1: num =\" + num);\n",
    "console.log(\"HTML1B2: b =\" + b);\n",
    "console.log(\"HTML1B3: num+b=\" + (num+b));\n",
    "</script>\n",
    "\"\"\"\n",
    "HTML(my_html)"
   ]
  },
  {
   "cell_type": "markdown",
   "id": "2af19664",
   "metadata": {},
   "source": [
    "### Experimento HTML 2:\n",
    "Colocando varios scripts en un único html: si funciona."
   ]
  },
  {
   "cell_type": "code",
   "execution_count": 22,
   "id": "f023f47e",
   "metadata": {},
   "outputs": [
    {
     "data": {
      "text/html": [
       "\n",
       "<script>\n",
       "var a = 1;\n",
       "console.log(\"HTML2A: a = \"+a);\n",
       "</script>\n",
       "\n",
       "<script>\n",
       "var b = 2;\n",
       "console.log(\"HTML2B: b = \"+b);\n",
       "</script>\n",
       "\n",
       "<script>\n",
       "console.log(\"HTML2C: a+b = \"+(a+b));\n",
       "</script>\n"
      ],
      "text/plain": [
       "<IPython.core.display.HTML object>"
      ]
     },
     "execution_count": 22,
     "metadata": {},
     "output_type": "execute_result"
    }
   ],
   "source": [
    "# Test: Several scripts, all in one HTML\n",
    "from IPython.display import HTML\n",
    "my_html = \"\"\"\n",
    "<script>\n",
    "var a = 1;\n",
    "console.log(\"HTML2A: a = \"+a);\n",
    "</script>\n",
    "\n",
    "<script>\n",
    "var b = 2;\n",
    "console.log(\"HTML2B: b = \"+b);\n",
    "</script>\n",
    "\n",
    "<script>\n",
    "console.log(\"HTML2C: a+b = \"+(a+b));\n",
    "</script>\n",
    "\"\"\"\n",
    "HTML(my_html)"
   ]
  },
  {
   "cell_type": "markdown",
   "id": "0ff68260",
   "metadata": {},
   "source": [
    "### Experimento HTML 3:\n",
    "Ejecutando varios HTMLs por separado."
   ]
  },
  {
   "cell_type": "code",
   "execution_count": 25,
   "id": "c1b094b8",
   "metadata": {},
   "outputs": [
    {
     "data": {
      "text/html": [
       "\n",
       "<script>\n",
       "var a = 1;\n",
       "console.log(\"HTM3: a = \"+a);\n",
       "</script>\n"
      ],
      "text/plain": [
       "<IPython.core.display.HTML object>"
      ]
     },
     "metadata": {},
     "output_type": "display_data"
    },
    {
     "data": {
      "text/html": [
       "\n",
       "<script>\n",
       "var b = 2;\n",
       "console.log(\"HTML3: b = \"+b);\n",
       "</script>\n"
      ],
      "text/plain": [
       "<IPython.core.display.HTML object>"
      ]
     },
     "metadata": {},
     "output_type": "display_data"
    },
    {
     "data": {
      "text/html": [
       "\n",
       "<script>\n",
       "console.log(\"HTML3: a+b = \"+(a+b));\n",
       "</script>\n"
      ],
      "text/plain": [
       "<IPython.core.display.HTML object>"
      ]
     },
     "metadata": {},
     "output_type": "display_data"
    }
   ],
   "source": [
    "# Several HTML\n",
    "from IPython.display import HTML, display\n",
    "my_html = \"\"\"\n",
    "<script>\n",
    "var a = 1;\n",
    "console.log(\"HTM3: a = \"+a);\n",
    "</script>\n",
    "\"\"\"\n",
    "h1 = HTML(my_html)\n",
    "my_html = \"\"\"\n",
    "<script>\n",
    "var b = 2;\n",
    "console.log(\"HTML3: b = \"+b);\n",
    "</script>\n",
    "\"\"\"\n",
    "h2 = HTML(my_html)\n",
    "my_html = \"\"\"\n",
    "<script>\n",
    "console.log(\"HTML3: a+b = \"+(a+b));\n",
    "</script>\n",
    "\"\"\"\n",
    "h3 = HTML(my_html)\n",
    "display(h1, h2, h3) # Hay que poner todos, sino solo muestra el último"
   ]
  },
  {
   "cell_type": "markdown",
   "id": "b6da1a7a",
   "metadata": {},
   "source": [
    "### Experimento HTML 4:\n",
    "El hermano pobre RISE, ¿cómo hacer presentaciones con reveal.js?"
   ]
  },
  {
   "cell_type": "code",
   "execution_count": 3,
   "id": "fec8eb7b",
   "metadata": {},
   "outputs": [
    {
     "name": "stdout",
     "output_type": "stream",
     "text": [
      "<body>\n",
      "\n",
      "<link rel=\"stylesheet\" href=\"reveal.css\">\n",
      "<script src=\"reveal.js\"></script>\n",
      "<script src=\"body.js\"></script>\n",
      "\n",
      "<button id=\"my_button\" onclick=\"launch_reveal()\">Click me</button>\n",
      "\n",
      "<div id=\"reveal_id\" class=\"reveal\">\n",
      "\t<div class=\"slides\">\n",
      "\t\t<section>Slide 1</section>\n",
      "\t\t<section>Slide 2</section>\n",
      "\t\t<section>Slide 3</section>\n",
      "\t</div>\n",
      "</div>\n",
      "\n",
      "</body>\n"
     ]
    }
   ],
   "source": [
    "!cat body.html"
   ]
  },
  {
   "cell_type": "code",
   "execution_count": 17,
   "id": "57ba0e02",
   "metadata": {},
   "outputs": [
    {
     "data": {
      "text/html": [
       "<body>\n",
       "\n",
       "<link rel=\"stylesheet\" href=\"reveal.css\">\n",
       "<script src=\"reveal.js\"></script>\n",
       "<script src=\"body.js\"></script>\n",
       "\n",
       "<button id=\"my_button\" onclick=\"launch_reveal()\">Click me</button>\n",
       "\n",
       "<div id=\"reveal_id\" class=\"reveal\">\n",
       "\t<div class=\"slides\">\n",
       "\t\t<section>Slide 1</section>\n",
       "\t\t<section>Slide 2</section>\n",
       "\t\t<section>Slide 3</section>\n",
       "\t</div>\n",
       "</div>\n",
       "\n",
       "</body>\n"
      ],
      "text/plain": [
       "<IPython.core.display.HTML object>"
      ]
     },
     "execution_count": 17,
     "metadata": {},
     "output_type": "execute_result"
    }
   ],
   "source": [
    "from IPython.display import HTML, Javascript, display\n",
    "HTML(filename=\"body.html\")"
   ]
  },
  {
   "cell_type": "code",
   "execution_count": 16,
   "id": "c9553dfe",
   "metadata": {},
   "outputs": [
    {
     "data": {
      "application/javascript": [
       "var link = document.createElement(\"link\");\n",
       "\tlink.ref = \"stylesheet\";\n",
       "\tlink.type = \"text/css\";\n",
       "\tlink.href = \"https://raw.githubusercontent.com/sebastiandres/2021-05-IPython-display/master/reveal.css\";\n",
       "\tdocument.head.appendChild(link);\n",
       "new Promise(function(resolve, reject) {\n",
       "\tvar script = document.createElement(\"script\");\n",
       "\tscript.onload = resolve;\n",
       "\tscript.onerror = reject;\n",
       "\tscript.src = \"https://raw.githubusercontent.com/sebastiandres/2021-05-IPython-display/master/reveal.js\";\n",
       "\tdocument.head.appendChild(script);\n",
       "}).then(() => {\n",
       "function launch_reveal(){\n",
       "\tvar x = document.getElementById(\"my_button\");\n",
       "\tx.style.display = \"none\";\n",
       "\tconsole.log(\"Starting the reveal slides\");\n",
       "\tReveal.initialize({ embedded: false });\n",
       "}\n",
       "\n",
       "});"
      ],
      "text/plain": [
       "<IPython.core.display.Javascript object>"
      ]
     },
     "metadata": {},
     "output_type": "display_data"
    },
    {
     "data": {
      "text/html": [
       "<body>\n",
       "\n",
       "<link rel=\"stylesheet\" href=\"reveal.css\">\n",
       "<script src=\"reveal.js\"></script>\n",
       "<script src=\"body.js\"></script>\n",
       "\n",
       "<button id=\"my_button\" onclick=\"launch_reveal()\">Click me</button>\n",
       "\n",
       "<div id=\"reveal_id\" class=\"reveal\">\n",
       "\t<div class=\"slides\">\n",
       "\t\t<section>Slide 1</section>\n",
       "\t\t<section>Slide 2</section>\n",
       "\t\t<section>Slide 3</section>\n",
       "\t</div>\n",
       "</div>\n",
       "\n",
       "</body>\n"
      ],
      "text/plain": [
       "<IPython.core.display.HTML object>"
      ]
     },
     "metadata": {},
     "output_type": "display_data"
    }
   ],
   "source": [
    "from IPython.display import HTML, Javascript, display\n",
    "my_path = \"https://raw.githubusercontent.com/sebastiandres/2021-05-IPython-display/master/\"\n",
    "my_js = Javascript(url=my_path+\"body.js\", lib=my_path+\"reveal.js\", css=my_path+\"reveal.css\")\n",
    "my_html = HTML(filename=\"body.html\")\n",
    "display(my_js)\n",
    "display(my_html)"
   ]
  },
  {
   "cell_type": "code",
   "execution_count": 10,
   "id": "97bb7d83",
   "metadata": {},
   "outputs": [
    {
     "data": {
      "application/javascript": [
       "\n",
       "var link = document.createElement('link');\n",
       "link.rel = \"stylesheet\"; link.type = \"text/css\";\n",
       "link.href = \"reveal.css\";\n",
       "document.querySelector('head').appendChild(link);\n"
      ],
      "text/plain": [
       "<IPython.core.display.Javascript object>"
      ]
     },
     "execution_count": 10,
     "metadata": {},
     "output_type": "execute_result"
    }
   ],
   "source": [
    "## Adding a css with js\n",
    "from IPython.display import HTML, Javascript, display\n",
    "my_js = \"\"\"\n",
    "var link = document.createElement('link');\n",
    "link.rel = \"stylesheet\"; link.type = \"text/css\";\n",
    "link.href = \"reveal.css\";\n",
    "document.querySelector('head').appendChild(link);\n",
    "\"\"\"\n",
    "Javascript(my_js)"
   ]
  },
  {
   "cell_type": "markdown",
   "id": "2cf98b99",
   "metadata": {},
   "source": [
    "### Experimento JS 1:\n",
    "Ejecutando varios javascript por separado."
   ]
  },
  {
   "cell_type": "code",
   "execution_count": 2,
   "id": "74217f84",
   "metadata": {
    "scrolled": true
   },
   "outputs": [
    {
     "data": {
      "application/javascript": [
       "\n",
       "var num = 42;\n",
       "console.log(\"JS1A: num = \" + num);\n"
      ],
      "text/plain": [
       "<IPython.core.display.Javascript object>"
      ]
     },
     "execution_count": 2,
     "metadata": {},
     "output_type": "execute_result"
    }
   ],
   "source": [
    "# Definir a\n",
    "from IPython.display import Javascript\n",
    "js_str_1 = \"\"\"\n",
    "var num = 42;\n",
    "console.log(\"JS1A: num = \" + num);\n",
    "\"\"\"\n",
    "Javascript(js_str_1)"
   ]
  },
  {
   "cell_type": "code",
   "execution_count": 3,
   "id": "9361fc7d",
   "metadata": {},
   "outputs": [
    {
     "data": {
      "application/javascript": [
       "\n",
       "var num = 42;\n",
       "var b = 2;\n",
       "console.log(\"JS1B1: num =\" + num);\n",
       "console.log(\"JS1B2: b =\" + b);\n",
       "console.log(\"JS1B3: num+b=\" + (num+b));\n"
      ],
      "text/plain": [
       "<IPython.core.display.Javascript object>"
      ]
     },
     "execution_count": 3,
     "metadata": {},
     "output_type": "execute_result"
    }
   ],
   "source": [
    "# Imprimir a\n",
    "from IPython.display import Javascript\n",
    "js_str_2 = \"\"\"\n",
    "var num = 42;\n",
    "var b = 2;\n",
    "console.log(\"JS1B1: num = \" + num);\n",
    "console.log(\"JS1B2: b = \" + b);\n",
    "console.log(\"JS1B3: num+b = \" + (num+b));\n",
    "\"\"\"\n",
    "Javascript(js_str_2)"
   ]
  },
  {
   "cell_type": "markdown",
   "id": "15461daf",
   "metadata": {},
   "source": [
    "### Experimento JS 2:\n",
    "Usando javascript (puro) para agregar elementos html de manera dinámica. Observación: No se usa html, sino sólo Javascript sobre el \"element\"."
   ]
  },
  {
   "cell_type": "code",
   "execution_count": 6,
   "id": "49b0842a",
   "metadata": {},
   "outputs": [
    {
     "data": {
      "application/javascript": [
       "\n",
       "function button_action(value){\n",
       "  console.log('La variable tiene valor '+ value);\n",
       "};\n",
       "\n",
       "element.append(`<div> \n",
       "Variable: \n",
       "<input type='text' id='my_input_form' value='42'> \n",
       "<button onclick='button_action(document.getElementById(\"my_input_form\").value)'>Click</button>\n",
       "</div>`);\n"
      ],
      "text/plain": [
       "<IPython.core.display.Javascript object>"
      ]
     },
     "execution_count": 6,
     "metadata": {},
     "output_type": "execute_result"
    }
   ],
   "source": [
    "# Ejemplo 2\n",
    "from IPython.display import Javascript\n",
    "my_js = \"\"\"\n",
    "function button_action(value){\n",
    "  console.log('La variable tiene valor '+ value);\n",
    "};\n",
    "\n",
    "element.append(`<div> \n",
    "Variable: \n",
    "<input type='text' id='my_input_form' value='42'> \n",
    "<button onclick='button_action(document.getElementById(\"my_input_form\").value)'>Click</button>\n",
    "</div>`);\n",
    "\"\"\"\n",
    "Javascript(my_js)"
   ]
  },
  {
   "cell_type": "markdown",
   "id": "ff646685",
   "metadata": {},
   "source": [
    "### Experimento JS 3:\n",
    "Usando javascript para graficar.\n",
    "\n",
    "**CURRENTLY NOT WORKING**"
   ]
  },
  {
   "cell_type": "code",
   "execution_count": null,
   "id": "6ebb0e51",
   "metadata": {},
   "outputs": [],
   "source": [
    "# Ejemplo 3: Una visualización con xkcd-chart\n",
    "# https://github.com/timqian/chart.xkcd\n",
    "from IPython.display import Javascript\n",
    "my_js = \"\"\"\n",
    "  const svg = document.querySelector('.line-chart')\n",
    "\n",
    "  new chartXkcd.Line(svg, {\n",
    "    title: 'Monthly income of an indie developer',\n",
    "    xLabel: 'Month',\n",
    "    yLabel: '$ Dollars',\n",
    "    data: {\n",
    "      labels:['1', '2', '3', '4', '5', '6','7', '8', '9', '10'],\n",
    "      datasets: [{\n",
    "        label: 'Plan',\n",
    "        data: [30, 70, 200, 300, 500 ,800, 1500, 2900, 5000, 8000],\n",
    "      }, {\n",
    "        label: 'Reality',\n",
    "        data: [0, 1, 30, 70, 80, 100, 50, 80, 40, 150],\n",
    "      }]\n",
    "    },\n",
    "    options: {}\n",
    "  });\n",
    "  \n",
    "  element.append(`<svg class=\"line-chart\"></svg>`)\n",
    "\"\"\"\n",
    "my_lib = \"https://cdn.jsdelivr.net/npm/chart.xkcd@1/dist/chart.xkcd.min.js\"\n",
    "Javascript(data=my_js, lib=my_lib)"
   ]
  },
  {
   "cell_type": "markdown",
   "id": "3daad2e8",
   "metadata": {},
   "source": [
    "### Experimento JS 3:\n",
    "Usando javascript para graficar.\n",
    "\n",
    "**CURRENTLY NOT WORKING**"
   ]
  },
  {
   "cell_type": "code",
   "execution_count": 5,
   "id": "f34c8eed",
   "metadata": {},
   "outputs": [
    {
     "data": {
      "application/javascript": [
       "new Promise(function(resolve, reject) {\n",
       "\tvar script = document.createElement(\"script\");\n",
       "\tscript.onload = resolve;\n",
       "\tscript.onerror = reject;\n",
       "\tscript.src = \"https://cdn.jsdelivr.net/npm/chart.xkcd@1/dist/chart.xkcd.min.js\";\n",
       "\tdocument.head.appendChild(script);\n",
       "}).then(() => {\n",
       "// import chartXkcd from 'chart.xkcd';\n",
       "// import chartXkcd from '../../dist/chart.xkcd';\n",
       "import chartXkcd from '../src';\n",
       "\n",
       "const svg = document.querySelector('.bar-chart');\n",
       "\n",
       "new chartXkcd.Bar(svg, {\n",
       "  title: 'Github stars VS patron number',\n",
       "  xLabel: 'Month',\n",
       "  yLabel: 'Count',\n",
       "  data: {\n",
       "    labels: ['github stars', 'patrons'],\n",
       "    datasets: [{\n",
       "      data: [100, 2],\n",
       "    }],\n",
       "  },\n",
       "  // options: {\n",
       "  //   yTickCount: 2,\n",
       "  //   // unxkcdify: true,\n",
       "  //   // strokeColor: 'white',\n",
       "  //   // backgroundColor: 'black',\n",
       "  // },\n",
       "});\n",
       "\n",
       "const svgStackedBar = document.querySelector('.stacked-bar-chart');\n",
       "new chartXkcd.StackedBar(svgStackedBar, {\n",
       "  title: 'Issues and PR Submissions',\n",
       "  xLabel: 'Month',\n",
       "  yLabel: 'Count',\n",
       "  data: {\n",
       "    labels: ['Jan', 'Feb', 'Mar', 'April', 'May'],\n",
       "    datasets: [{\n",
       "      label: 'Issues',\n",
       "      data: [12, 19, 11, 29, 17],\n",
       "    }, {\n",
       "      label: 'PRs',\n",
       "      data: [3, 5, 2, 4, 1],\n",
       "    }, {\n",
       "      label: 'Merges',\n",
       "      data: [2, 3, 0, 1, 1],\n",
       "    }],\n",
       "  },\n",
       "  // options: {\n",
       "  // showLegend: true,\n",
       "  //   yTickCount: 2,\n",
       "  //   // unxkcdify: true,\n",
       "  //   // strokeColor: 'white',\n",
       "  //   // backgroundColor: 'black',\n",
       "  // },\n",
       "});\n",
       "\n",
       "const svgPie = document.querySelector('.pie-chart');\n",
       "new chartXkcd.Pie(svgPie, {\n",
       "  title: 'What Tim is made of',\n",
       "  data: {\n",
       "    labels: ['a', 'b', 'e', 'f', 'g'],\n",
       "    datasets: [{\n",
       "      data: [500, 200, 80, 90, 100],\n",
       "    }],\n",
       "  },\n",
       "  options: {\n",
       "    innerRadius: 0.6,\n",
       "    legendPosition: chartXkcd.config.positionType.upRight,\n",
       "    // showLegend: true,\n",
       "    // unxkcdify: true,\n",
       "    // strokeColor: 'white',\n",
       "    // backgroundColor: 'black',\n",
       "  },\n",
       "});\n",
       "\n",
       "const svgLine = document.querySelector('.line-chart');\n",
       "new chartXkcd.Line(svgLine, {\n",
       "  title: 'Monthly income of an indie developer',\n",
       "  xLabel: 'Month',\n",
       "  yLabel: '$ Dollars',\n",
       "  data: {\n",
       "    labels: ['1', '2', '3', '4', '5', '6', '7', '8', '9', '10'],\n",
       "    datasets: [{\n",
       "      label: 'Plan',\n",
       "      data: [30, 70, 200, 300, 500, 800, 1500, 2900, 5000, 8000],\n",
       "    }, {\n",
       "      label: 'Reality',\n",
       "      data: [0, 1, 30, 70, 80, 100, 50, 80, 40, 150],\n",
       "    }],\n",
       "  },\n",
       "  options: {\n",
       "    // unxkcdify: true,\n",
       "    // strokeColor: 'black',\n",
       "    // backgroundColor: 'white',\n",
       "  },\n",
       "});\n",
       "\n",
       "const svgXY = document.querySelector('.xyline-chart');\n",
       "new chartXkcd.XY(svgXY, {\n",
       "  title: 'stars',\n",
       "  xLabel: 'wo',\n",
       "  yLabel: 'Stars count',\n",
       "  data: {\n",
       "    datasets: [{\n",
       "      label: 'timqian',\n",
       "      data: [{ x: 3, y: 10 }, { x: 4, y: 122 }, { x: 10, y: 180 }, { x: 1, y: 2 }, { x: 2, y: 4 }],\n",
       "    }, {\n",
       "      label: 'wewean',\n",
       "      data: [{ x: 3, y: 122 }, { x: 4, y: 212 }, { x: -3, y: 100 }, { x: 1, y: 1 }, { x: 1.5, y: 12 }],\n",
       "    }],\n",
       "  },\n",
       "  options: {\n",
       "    xTickCount: 5,\n",
       "    yTickCount: 5,\n",
       "    legendPosition: chartXkcd.config.positionType.downRight,\n",
       "    showLine: false,\n",
       "    // showLegend: true,\n",
       "    // unxkcdify: true,\n",
       "    // strokeColor: 'blue',\n",
       "    // backgroundColor: 'black',\n",
       "\n",
       "  },\n",
       "});\n",
       "\n",
       "const svgXY2 = document.querySelector('.xyline-chart2');\n",
       "new chartXkcd.XY(svgXY2, {\n",
       "  title: 'Github star history',\n",
       "  xLabel: 'Month',\n",
       "  yLabel: 'Stars abc',\n",
       "  data: {\n",
       "    datasets: [{\n",
       "      label: 'timqian/chart.xkcd',\n",
       "      data: [{ x: '2015-03-01', y: 0 }, { x: '2015-04-01', y: 2 }, { x: '2015-05-01', y: 4 }, { x: '2015-06-01', y: 10 }, { x: '2015-07-01', y: 122 }],\n",
       "    }, {\n",
       "      label: 'timqian/star-history',\n",
       "      data: [{ x: '2015-01-01', y: 0 }, { x: '2015-03-01', y: 1 }, { x: '2015-04-01', y: 12 }, { x: '2015-05-01', y: 122 }, { x: '2015-06-01', y: 212 }],\n",
       "    }],\n",
       "  },\n",
       "  options: {\n",
       "    xTickCount: 3,\n",
       "    yTickCount: 4,\n",
       "    legendPosition: chartXkcd.config.positionType.upLeft,\n",
       "    showLine: true,\n",
       "    timeFormat: 'MM/DD/YYYY',\n",
       "    dotSize: 0.5,\n",
       "    // unxkcdify: true,\n",
       "    // strokeColor: 'white',\n",
       "    // backgroundColor: 'black',\n",
       "  },\n",
       "});\n",
       "\n",
       "const svgRadar = document.querySelector('.radar-chart');\n",
       "new chartXkcd.Radar(svgRadar, {\n",
       "  title: 'Radar',\n",
       "  data: {\n",
       "    labels: ['c', 'h', 'a', 'r', 't'],\n",
       "    datasets: [{\n",
       "      label: 'ccharrrt',\n",
       "      data: [2, 1, 1, 3, 1],\n",
       "    }, {\n",
       "      label: 'chhaart',\n",
       "      data: [1, 2, 2, 1, 1],\n",
       "    }],\n",
       "  },\n",
       "  options: {\n",
       "    showLegend: true,\n",
       "    dotSize: 0.8,\n",
       "    showLabels: true,\n",
       "    legendPosition: chartXkcd.config.positionType.upRight,\n",
       "    // unxkcdify: true,\n",
       "    // strokeColor: 'white',\n",
       "    // backgroundColor: 'black',\n",
       "  },\n",
       "});\n",
       "\n",
       "const svgLineCus = document.querySelector('.line-chart-cus');\n",
       "new chartXkcd.Line(svgLineCus, {\n",
       "  title: 'Customize Font & colors (定制外观)',\n",
       "  xLabel: 'this is x label',\n",
       "  yLabel: 'y label',\n",
       "  data: {\n",
       "    labels: ['1', '2', '3', '4', '5', '6', '7', '8', '9', '10'],\n",
       "    datasets: [{\n",
       "      label: 'font',\n",
       "      data: [30, 70, 200, 300, 500, 800, 100, 290, 500, 300],\n",
       "    }, {\n",
       "      label: 'color',\n",
       "      data: [0, 1, 30, 70, 80, 100, 500, 80, 40, 250],\n",
       "    }],\n",
       "  },\n",
       "  options: {\n",
       "    fontFamily: 'ZCOOL KuaiLe',\n",
       "    dataColors: ['black', '#aaa'],\n",
       "    legendPosition: chartXkcd.config.positionType.upRight,\n",
       "    // strokeColor: 'white',\n",
       "    // backgroundColor: 'black',\n",
       "  },\n",
       "});\n",
       "\n",
       "\n",
       "const svgLineUnxkcdify = document.querySelector('.line-chart-unxkcdify');\n",
       "new chartXkcd.Line(svgLineUnxkcdify, {\n",
       "  title: 'Unxkcdify',\n",
       "  xLabel: 'this is x label',\n",
       "  yLabel: 'y label',\n",
       "  data: {\n",
       "    labels: ['1', '2', '3', '4', '5', '6', '7', '8', '9', '10'],\n",
       "    datasets: [{\n",
       "      label: 'font',\n",
       "      data: [30, 70, 200, 300, 500, 800, 100, 290, 500, 300],\n",
       "    }, {\n",
       "      label: 'color',\n",
       "      data: [0, 1, 30, 70, 80, 100, 500, 80, 40, 250],\n",
       "    }],\n",
       "  },\n",
       "  options: {\n",
       "    unxkcdify: true,\n",
       "    // strokeColor: 'white',\n",
       "    // backgroundColor: 'black',\n",
       "  },\n",
       "});\n",
       "\n",
       "const svgDark = document.querySelector('.line-chart-dark');\n",
       "new chartXkcd.XY(svgDark, {\n",
       "  title: 'stars',\n",
       "  xLabel: 'wo',\n",
       "  yLabel: 'Stars count',\n",
       "  data: {\n",
       "    datasets: [{\n",
       "      label: 'timqian',\n",
       "      data: [{ x: 3, y: 10 }, { x: 4, y: 122 }, { x: 10, y: 180 }, { x: 1, y: 2 }, { x: 2, y: 4 }],\n",
       "    }, {\n",
       "      label: 'wewean',\n",
       "      data: [{ x: 3, y: 122 }, { x: 4, y: 212 }, { x: -3, y: 100 }, { x: 1, y: 1 }, { x: 1.5, y: 12 }],\n",
       "    }],\n",
       "  },\n",
       "  options: {\n",
       "    xTickCount: 5,\n",
       "    yTickCount: 5,\n",
       "    legendPosition: chartXkcd.config.positionType.downRight,\n",
       "    showLine: false,\n",
       "    // unxkcdify: true,\n",
       "    strokeColor: 'white',\n",
       "    backgroundColor: 'black',\n",
       "\n",
       "  },\n",
       "});\n",
       "\n",
       "});"
      ],
      "text/plain": [
       "<IPython.core.display.Javascript object>"
      ]
     },
     "execution_count": 5,
     "metadata": {},
     "output_type": "execute_result"
    }
   ],
   "source": [
    "from IPython.display import Javascript\n",
    "# Link: https://github.com/timqian/chart.xkcd/blob/master/examples/index.js\n",
    "my_url = \"https://raw.githubusercontent.com/timqian/chart.xkcd/master/examples/index.js\"\n",
    "my_lib = \"https://cdn.jsdelivr.net/npm/chart.xkcd@1/dist/chart.xkcd.min.js\"\n",
    "Javascript(url=my_url, lib=my_lib)"
   ]
  },
  {
   "cell_type": "code",
   "execution_count": 23,
   "id": "506b73af",
   "metadata": {},
   "outputs": [
    {
     "data": {
      "application/javascript": [
       "\n",
       "let message = \"Hello world!\";\n",
       "//document.querySelector(\"#output-area\").appendChild(document.createTextNode(message));\n",
       "element.append(document.createTextNode(message));\n"
      ],
      "text/plain": [
       "<IPython.core.display.Javascript object>"
      ]
     },
     "metadata": {},
     "output_type": "display_data"
    }
   ],
   "source": [
    "import IPython\n",
    "\n",
    "js_code = \\\n",
    "'''\n",
    "let message = \"Hello world!\";\n",
    "//document.querySelector(\"#output-area\").appendChild(document.createTextNode(message));\n",
    "element.append(document.createTextNode(message));\n",
    "'''\n",
    "\n",
    "display(IPython.display.Javascript(js_code))"
   ]
  },
  {
   "cell_type": "code",
   "execution_count": 31,
   "id": "dd77f23b",
   "metadata": {},
   "outputs": [
    {
     "data": {
      "application/javascript": [
       "\n",
       "var a = prompt(\"Hello\", \"Sebas\",\"tian\");\n",
       "alert(a);\n"
      ],
      "text/plain": [
       "<IPython.core.display.Javascript object>"
      ]
     },
     "metadata": {},
     "output_type": "display_data"
    }
   ],
   "source": [
    "import IPython\n",
    "\n",
    "js_code = \\\n",
    "'''\n",
    "var a = prompt(\"Hello\", \"Sebas\");\n",
    "alert(a);\n",
    "'''\n",
    "\n",
    "display(IPython.display.Javascript(js_code))"
   ]
  },
  {
   "cell_type": "code",
   "execution_count": 40,
   "id": "0b1cf630",
   "metadata": {},
   "outputs": [
    {
     "name": "stdout",
     "output_type": "stream",
     "text": [
      "\n",
      "<canvas width=280 height=280 style=\"background-color:rgb(240,240,240)\"></canvas>\n",
      "<button>Guess Number</button>\n",
      "<script>\n",
      "var canvas = document.querySelector('canvas')\n",
      "var ctx = canvas.getContext('2d')\n",
      "ctx.lineWidth = 10\n",
      "var button = document.querySelector('button')\n",
      "var mouse = {x: 0, y: 0}\n",
      "canvas.addEventListener('mousemove', function(e) {\n",
      "  mouse.x = e.pageX - this.offsetLeft\n",
      "  mouse.y = e.pageY - this.offsetTop\n",
      "})\n",
      "canvas.onmousedown = ()=>{\n",
      "  ctx.beginPath()\n",
      "  ctx.moveTo(mouse.x, mouse.y)\n",
      "  canvas.addEventListener('mousemove', onPaint)\n",
      "}\n",
      "canvas.onmouseup = ()=>{\n",
      "  canvas.removeEventListener('mousemove', onPaint)\n",
      "}\n",
      "var onPaint = ()=>{\n",
      "  ctx.lineTo(mouse.x, mouse.y)\n",
      "  ctx.stroke()\n",
      "}\n",
      "var data = new Promise(resolve=>{\n",
      "  button.onclick = ()=>{\n",
      "    resolve(canvas.toDataURL('image/png'))\n",
      "  }\n",
      "})\n",
      "</script>\n",
      "\n"
     ]
    },
    {
     "data": {
      "text/html": [
       "\n",
       "<canvas width=280 height=280 style=\"background-color:rgb(240,240,240)\"></canvas>\n",
       "<button>Guess Number</button>\n",
       "<script>\n",
       "var canvas = document.querySelector('canvas')\n",
       "var ctx = canvas.getContext('2d')\n",
       "ctx.lineWidth = 10\n",
       "var button = document.querySelector('button')\n",
       "var mouse = {x: 0, y: 0}\n",
       "canvas.addEventListener('mousemove', function(e) {\n",
       "  mouse.x = e.pageX - this.offsetLeft\n",
       "  mouse.y = e.pageY - this.offsetTop\n",
       "})\n",
       "canvas.onmousedown = ()=>{\n",
       "  ctx.beginPath()\n",
       "  ctx.moveTo(mouse.x, mouse.y)\n",
       "  canvas.addEventListener('mousemove', onPaint)\n",
       "}\n",
       "canvas.onmouseup = ()=>{\n",
       "  canvas.removeEventListener('mousemove', onPaint)\n",
       "}\n",
       "var onPaint = ()=>{\n",
       "  ctx.lineTo(mouse.x, mouse.y)\n",
       "  ctx.stroke()\n",
       "}\n",
       "var data = new Promise(resolve=>{\n",
       "  button.onclick = ()=>{\n",
       "    resolve(canvas.toDataURL('image/png'))\n",
       "  }\n",
       "})\n",
       "</script>\n"
      ],
      "text/plain": [
       "<IPython.core.display.HTML object>"
      ]
     },
     "metadata": {},
     "output_type": "display_data"
    }
   ],
   "source": [
    "from IPython.display import HTML, Image\n",
    "\n",
    "canvas_html = \"\"\"\n",
    "<canvas width=%d height=%d style=\"background-color:rgb(240,240,240)\"></canvas>\n",
    "<button>Guess Number</button>\n",
    "<script>\n",
    "var canvas = document.querySelector('canvas')\n",
    "var ctx = canvas.getContext('2d')\n",
    "ctx.lineWidth = %d\n",
    "var button = document.querySelector('button')\n",
    "var mouse = {x: 0, y: 0}\n",
    "canvas.addEventListener('mousemove', function(e) {\n",
    "  mouse.x = e.pageX - this.offsetLeft\n",
    "  mouse.y = e.pageY - this.offsetTop\n",
    "})\n",
    "canvas.onmousedown = ()=>{\n",
    "  ctx.beginPath()\n",
    "  ctx.moveTo(mouse.x, mouse.y)\n",
    "  canvas.addEventListener('mousemove', onPaint)\n",
    "}\n",
    "canvas.onmouseup = ()=>{\n",
    "  canvas.removeEventListener('mousemove', onPaint)\n",
    "}\n",
    "var onPaint = ()=>{\n",
    "  ctx.lineTo(mouse.x, mouse.y)\n",
    "  ctx.stroke()\n",
    "}\n",
    "var data = new Promise(resolve=>{\n",
    "  button.onclick = ()=>{\n",
    "    resolve(canvas.toDataURL('image/png'))\n",
    "  }\n",
    "})\n",
    "</script>\n",
    "\"\"\"\n",
    "print(canvas_html % (280, 280, 10))\n",
    "\n",
    "def draw(filename='drawing.png', w=280, h=280, line_width=10):\n",
    "  display(HTML(canvas_html % (w, h, line_width)))\n",
    "\n",
    "draw()"
   ]
  },
  {
   "cell_type": "code",
   "execution_count": 42,
   "id": "ac0be6f8",
   "metadata": {},
   "outputs": [
    {
     "data": {
      "text/html": [
       "<button>Guess Number</button>\n",
       "<br>\n",
       "<canvas width=280 height=280 style=\"background-color:rgb(240,240,240)\"></canvas>\n",
       "\n",
       "<script>\n",
       "var canvas = document.querySelector('canvas');\n",
       "var ctx = canvas.getContext('2d');\n",
       "ctx.lineWidth = 10;\n",
       "var button = document.querySelector('button');\n",
       "var mouse = {x: 0, y: 0};\n",
       "canvas.addEventListener('mousemove', function(e) {\n",
       "  mouse.x = e.pageX - this.offsetLeft;\n",
       "  mouse.y = e.pageY - this.offsetTop;\n",
       "})\n",
       "canvas.onmousedown = ()=>{\n",
       "  ctx.beginPath();\n",
       "  ctx.moveTo(mouse.x, mouse.y);\n",
       "  canvas.addEventListener('mousemove', onPaint);\n",
       "}\n",
       "canvas.onmouseup = ()=>{\n",
       "  canvas.removeEventListener('mousemove', onPaint)\n",
       "}\n",
       "var onPaint = ()=>{\n",
       "  ctx.lineTo(mouse.x, mouse.y);\n",
       "  ctx.stroke();\n",
       "}\n",
       "var data = new Promise(resolve=>{\n",
       "  button.onclick = ()=>{\n",
       "    resolve(canvas.toDataURL('image/png'))\n",
       "  }\n",
       "})\n",
       "</script>"
      ],
      "text/plain": [
       "<IPython.core.display.HTML object>"
      ]
     },
     "execution_count": 42,
     "metadata": {},
     "output_type": "execute_result"
    }
   ],
   "source": [
    "from IPython.display import HTML\n",
    "HTML(filename=\"drawing.html\")"
   ]
  },
  {
   "cell_type": "code",
   "execution_count": null,
   "id": "01525a60",
   "metadata": {},
   "outputs": [],
   "source": []
  },
  {
   "cell_type": "code",
   "execution_count": null,
   "id": "ffd33213",
   "metadata": {},
   "outputs": [],
   "source": []
  }
 ],
 "metadata": {
  "kernelspec": {
   "display_name": "Python 3",
   "language": "python",
   "name": "python3"
  },
  "language_info": {
   "codemirror_mode": {
    "name": "ipython",
    "version": 3
   },
   "file_extension": ".py",
   "mimetype": "text/x-python",
   "name": "python",
   "nbconvert_exporter": "python",
   "pygments_lexer": "ipython3",
   "version": "3.7.4"
  }
 },
 "nbformat": 4,
 "nbformat_minor": 5
}
