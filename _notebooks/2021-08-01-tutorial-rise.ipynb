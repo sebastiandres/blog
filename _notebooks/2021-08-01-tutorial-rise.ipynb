{
 "cells": [
  {
   "cell_type": "markdown",
   "metadata": {
    "slideshow": {
     "slide_type": "slide"
    }
   },
   "source": [
    "# Tutorial de RISE\n",
    "> Usando jupyter notebooks para presentaciones interactivas\n",
    "\n",
    "- featured: true\n",
    "- hide: false\n",
    "- toc: false \n",
    "- badges: true\n",
    "- comments: true\n",
    "- categories: [jupyter, rise]\n",
    "- image: images/preview/rise.gif\n",
    "- permalink: /tutorial-rise/"
   ]
  },
  {
   "cell_type": "markdown",
   "metadata": {
    "slideshow": {
     "slide_type": "slide"
    }
   },
   "source": [
    "_Creo que existe poco material sobre cómo utilizar la librería RISE, especialmente en español. En esta serie de artículos dedicados espero poder contribuir a disminuir esa brecha._\n",
    "\n",
    "_Si encuentras errores o existe alguna funcionalidad no documentada, ¡no dudes en comentar!_"
   ]
  },
  {
   "cell_type": "markdown",
   "metadata": {
    "slideshow": {
     "slide_type": "slide"
    }
   },
   "source": [
    "#### ¿Qué es RISE?\n",
    "\n",
    "RISE es una extensión a los jupyter notebooks que permite transformarlos en una presentación interactiva. \n",
    "Toda las celdas pueden editarse y ejecutarse directamente, **durante** la presentación. Esto es práctico si necesitas corregir un error en una celda de texto. Más importante aún, puedes ejecutar código directamente en el kernel. En una misma diapositiva puedes tener múltiples celdas y elegir cuál ejecutar, o corregir el texto y volver a ejecutar.\n",
    "\n",
    "![](./2021-08-01-rise/rise.gif)"
   ]
  },
  {
   "cell_type": "markdown",
   "metadata": {
    "slideshow": {
     "slide_type": "slide"
    }
   },
   "source": [
    "#### ¿Porqué es mejor? \n",
    "\n",
    "Primero, porque simplifica enormemente la generación de material. El jupyter notebook es simultáneamente la presentación, el código, el apunte y texto oficial, y no necesitas actualizar en múltiples lugares. Detesto sacar una captura de pantalla a un código, porque tendré que estar eternamente actualizando esa imagen. O, si escribo un código, nunca queda con el formato correcto y como es \"código muerto\" que no se ejecuta nunca, es fácil que contenga errores.\n",
    "\n",
    "Segundo, porque simplifica la distribución del material. La presentación contiene todo lo que la audiencia necesita: explicaciones, imágenes, videos y código. Proporcionando un archivo requirements.txt es fácil recrear un ambiente con las librerías necesarias para ejecutar el código. Almacenando el jupyter notebook en github, es además fácil compartir el archivo ipynb del jupyter notebook, un html o pdf pre-generado fácil de visualizar o incluso un enlace a un repositorio binder donde la presentación se puede volver a visualizar de manera interactiva. Entregar múltiples opciones le entrega facilidades a la audiencia y permite generar más impacto."
   ]
  },
  {
   "cell_type": "markdown",
   "metadata": {
    "slideshow": {
     "slide_type": "slide"
    }
   },
   "source": [
    "#### ¿Qué desventajas tiene?\n",
    "\n",
    "La principal desventaja es que actualmente RISE funciona únicamente con Jupyter Notebook. \n",
    "\n",
    "No funciona con Jupyter Lab (_aún_) ni con Google Colaboratory (_probablemente nunca_)."
   ]
  },
  {
   "cell_type": "markdown",
   "metadata": {
    "slideshow": {
     "slide_type": "slide"
    }
   },
   "source": [
    "#### Sobre el tutorial\n",
    "\n",
    "Como el jupyter notebook se transforma en una presentación, se heredan todas las funcionalidades, tanto de texto (markdown, latex) como de código (gráficos, display, widgets) del formato jupyter notebook. Probablemente ya conoces muchos de estas funcionalidades. Podrás encontrar esos aspectos que no son propiamente de RISE en [funcionalidades de jupyter notebook útiles para presentaciones interactivas](https://sebastiandres.github.io/blog/TBD/).\n",
    "\n",
    "En este tutorial se divide en tres partes:\n",
    "* [Aspectos básico](https://sebastiandres.github.io/blog/TBD/): Cómo instalar la librería, cómo crear una presentación y como realizar una presentación exitosa.\n",
    "* [Aspectos intermedios](https://sebastiandres.github.io/blog/TBD/): Cómo configurar el diseño en RISE y cómo compartir tu presentación. \n",
    "* [Aspectos avanzados](https://sebastiandres.github.io/blog/TBD/): Cómo crear columnas, cómo realizar encuestas, cómo portar una presentación de powerpoint a jupyter notebook y otros consejos."
   ]
  },
  {
   "cell_type": "markdown",
   "metadata": {
    "slideshow": {
     "slide_type": "slide"
    }
   },
   "source": [
    "Enlaces:\n",
    "\n",
    "* [Documentación oficial de RISE](https://rise.readthedocs.io/en/stable/)\n",
    "* [Charla en PyCon Colombia 2020](https://sebastiandres.github.io/talk_2020_02_pycon_colombia_rise_and_poll/) donde hablo de RISE y cómo hacer encuestas.\n",
    "* [Otras charlas y eventos](https://linktr.ee/sebastiandres) donde uso librería RISE."
   ]
  }
 ],
 "metadata": {
  "celltoolbar": "Slideshow",
  "kernelspec": {
   "display_name": "Python 3 (ipykernel)",
   "language": "python",
   "name": "python3"
  },
  "language_info": {
   "codemirror_mode": {
    "name": "ipython",
    "version": 3
   },
   "file_extension": ".py",
   "mimetype": "text/x-python",
   "name": "python",
   "nbconvert_exporter": "python",
   "pygments_lexer": "ipython3",
   "version": "3.7.4"
  },
  "nbTranslate": {
   "displayLangs": [
    "*"
   ],
   "hotkey": "alt-t",
   "langInMainMenu": true,
   "sourceLang": "en",
   "targetLang": "fr",
   "useGoogleTranslate": true
  },
  "rise": {
   "_backimage": "path/to/mybackimage.png",
   "_footer": "<h3>NAME, DATE</h3>",
   "_header": "<h1>PRESENTATION NAME // EVENTs</h1>",
   "_theme_options": [
    "black",
    "white",
    "league",
    "beige",
    "sky",
    "night",
    "serif"
   ],
   "_transition_options": [
    "none",
    "fade",
    "slide",
    "convex",
    "concave",
    "zoom"
   ],
   "autolauch": false,
   "enable_chalkboard": true,
   "theme": "serif",
   "transition": "slide"
  },
  "varInspector": {
   "cols": {
    "lenName": 16,
    "lenType": 16,
    "lenVar": 40
   },
   "kernels_config": {
    "python": {
     "delete_cmd_postfix": "",
     "delete_cmd_prefix": "del ",
     "library": "var_list.py",
     "varRefreshCmd": "print(var_dic_list())"
    },
    "r": {
     "delete_cmd_postfix": ") ",
     "delete_cmd_prefix": "rm(",
     "library": "var_list.r",
     "varRefreshCmd": "cat(var_dic_list()) "
    }
   },
   "types_to_exclude": [
    "module",
    "function",
    "builtin_function_or_method",
    "instance",
    "_Feature"
   ],
   "window_display": false
  }
 },
 "nbformat": 4,
 "nbformat_minor": 4
}
