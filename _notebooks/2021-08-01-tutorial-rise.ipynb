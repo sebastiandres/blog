{
 "cells": [
  {
   "cell_type": "markdown",
   "metadata": {
    "slideshow": {
     "slide_type": "slide"
    }
   },
   "source": [
    "# Tutorial de RISE\n",
    "> Usando jupyter notebooks para presentaciones interactivas\n",
    "\n",
    "- featured: true\n",
    "- hide: false\n",
    "- toc: false \n",
    "- badges: true\n",
    "- comments: true\n",
    "- categories: [jupyter, rise]\n",
    "- image: 2021-08-01-rise/basic_usage.gif\n",
    "- permalink: /tutorial-rise/"
   ]
  },
  {
   "cell_type": "markdown",
   "metadata": {
    "slideshow": {
     "slide_type": "slide"
    }
   },
   "source": [
    "RISE es una extensión a los jupyter notebooks que permite transformarlos en una presentación interactiva. \n",
    "Las celdas de texto pueden editarse directamente, **durante** la presentación. Más importante aún, las celdas de código pueden editarse y ejecutarse durante la presentación, obteniendo el resultado.\n",
    "\n",
    "Pienso que RISE es una extensión básica a los jupyter notebooks, y me sorprende que no sea más conocida y utilizada. Especialmente para educación. Personalemente la he utilizado para clases de informática y matemática, y creo que permite crear clases más interactivas, más entretenidas y de mejor calidad.\n",
    "\n",
    "¿Porqué es mejor? Pues porque las presentaciones tradicionales en powerpoint no permiten adaptar el contenido, proponer cosas interactivas, etc etc.\n",
    "\n",
    "\n",
    "![](./2021-08-01-rise/basic_usage.gif)"
   ]
  },
  {
   "cell_type": "markdown",
   "metadata": {
    "slideshow": {
     "slide_type": "slide"
    }
   },
   "source": [
    "En este tutorial se compone de 3 partes:\n",
    "* [Aspectos básico](https://sebastiandres.github.io/blog/tutorial-rise-1/): instalación, tipos de celdas, aspecto y botones.\n",
    "* [Aspectos intermedios](https://sebastiandres.github.io/blog/tutorial-rise-2/):  \n",
    "* [Aspectos avanzados](https://sebastiandres.github.io/blog/tutorial-rise-3/):  \n"
   ]
  }
 ],
 "metadata": {
  "celltoolbar": "Slideshow",
  "kernelspec": {
   "display_name": "Python 3 (ipykernel)",
   "language": "python",
   "name": "python3"
  },
  "language_info": {
   "codemirror_mode": {
    "name": "ipython",
    "version": 3
   },
   "file_extension": ".py",
   "mimetype": "text/x-python",
   "name": "python",
   "nbconvert_exporter": "python",
   "pygments_lexer": "ipython3",
   "version": "3.7.4"
  },
  "nbTranslate": {
   "displayLangs": [
    "*"
   ],
   "hotkey": "alt-t",
   "langInMainMenu": true,
   "sourceLang": "en",
   "targetLang": "fr",
   "useGoogleTranslate": true
  },
  "rise": {
   "_backimage": "path/to/mybackimage.png",
   "_footer": "<h3>NAME, DATE</h3>",
   "_header": "<h1>PRESENTATION NAME // EVENTs</h1>",
   "_theme_options": [
    "black",
    "white",
    "league",
    "beige",
    "sky",
    "night",
    "serif"
   ],
   "_transition_options": [
    "none",
    "fade",
    "slide",
    "convex",
    "concave",
    "zoom"
   ],
   "autolauch": true,
   "enable_chalkboard": true,
   "theme": "serif",
   "transition": "slide"
  },
  "varInspector": {
   "cols": {
    "lenName": 16,
    "lenType": 16,
    "lenVar": 40
   },
   "kernels_config": {
    "python": {
     "delete_cmd_postfix": "",
     "delete_cmd_prefix": "del ",
     "library": "var_list.py",
     "varRefreshCmd": "print(var_dic_list())"
    },
    "r": {
     "delete_cmd_postfix": ") ",
     "delete_cmd_prefix": "rm(",
     "library": "var_list.r",
     "varRefreshCmd": "cat(var_dic_list()) "
    }
   },
   "types_to_exclude": [
    "module",
    "function",
    "builtin_function_or_method",
    "instance",
    "_Feature"
   ],
   "window_display": false
  }
 },
 "nbformat": 4,
 "nbformat_minor": 4
}
