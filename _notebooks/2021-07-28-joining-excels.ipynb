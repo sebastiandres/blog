{
 "cells": [
  {
   "cell_type": "markdown",
   "metadata": {},
   "source": [
    "# Uniendo archivos Excel\n",
    "> Automatizando unir archivos históricos\n",
    "\n",
    "- featured: false\n",
    "- hide: false\n",
    "- toc: false \n",
    "- badges: true\n",
    "- comments: true\n",
    "- categories: [jupyter, rise]\n",
    "- image: images/preview/unir-excels.png"
   ]
  },
  {
   "cell_type": "markdown",
   "metadata": {},
   "source": [
    "## Contexto\n",
    "\n",
    "Hoy me pidieron unir varios archivos excel en un único archivo.\n",
    "Tomé las siguientes convenciones:\n",
    "* Los archivos excel están en la carpeta `in`, y tienen las mismas columnas en el mismo orden.\n",
    "* La carpeta `out` tiene contendrá 2 archivos: un arhivo excel con la concatenación de todos los archivos, y una versión donde se mantuvo un único registro por rut (el último)."
   ]
  },
  {
   "cell_type": "markdown",
   "metadata": {},
   "source": [
    "## Solución\n",
    "\n",
    "Pandas"
   ]
  },
  {
   "cell_type": "code",
   "execution_count": null,
   "metadata": {},
   "outputs": [],
   "source": [
    "import pandas as pd\n",
    "from glob import glob\n",
    "\n",
    "# Leer todos los archivos excel de la carpeta in\n",
    "all_files = glob(\"in/*.xlsx\")\n",
    "\n",
    "# Get columns\n",
    "df = pd.read_excel(all_files[0])\n",
    "columns = df.columns\n",
    "\n",
    "# Unir los archivos en una lista\n",
    "df_list = []\n",
    "cols_list = []\n",
    "for in_file in all_files:\n",
    "    print(in_file)\n",
    "    df = pd.read_excel(in_file)\n",
    "    df.columns = columns # Renombrar las columnas, mantener la convención del primer archivo\n",
    "    df[\"Archivo\"] = in_file\n",
    "    df[\"#Fila\"] = df.index\n",
    "    df_list.append(df)\n",
    "\n",
    "# Concatenar\n",
    "df_master = pd.concat(df_list)\n",
    "\n",
    "# Sacando duplicados considerando único rut\n",
    "df_last = df_master.drop_duplicates(subset=\"RUT COMPLETO\", keep='last')\n",
    "\n",
    "# Guardar en excel, cada resultado en una pestaña\n",
    "writer = pd.ExcelWriter('out/Franquicia_joined.xlsx', engine='xlsxwriter')\n",
    "df_master.to_excel(writer, sheet_name=\"todos\", index=False)\n",
    "df_last.to_excel(writer, sheet_name=\"ultimo_segun_Rut\", index=False)\n",
    "writer.save()"
   ]
  },
  {
   "cell_type": "markdown",
   "metadata": {},
   "source": [
    "## Balance\n",
    "Un 15 minutos, que garantiza que no hayan errores de copiado-pegado y selección. ¡Listo para reutilizar!"
   ]
  }
 ],
 "metadata": {
  "kernelspec": {
   "display_name": "Python 3 (ipykernel)",
   "language": "python",
   "name": "python3"
  },
  "language_info": {
   "codemirror_mode": {
    "name": "ipython",
    "version": 3
   },
   "file_extension": ".py",
   "mimetype": "text/x-python",
   "name": "python",
   "nbconvert_exporter": "python",
   "pygments_lexer": "ipython3",
   "version": "3.7.4"
  },
  "varInspector": {
   "cols": {
    "lenName": 16,
    "lenType": 16,
    "lenVar": 40
   },
   "kernels_config": {
    "python": {
     "delete_cmd_postfix": "",
     "delete_cmd_prefix": "del ",
     "library": "var_list.py",
     "varRefreshCmd": "print(var_dic_list())"
    },
    "r": {
     "delete_cmd_postfix": ") ",
     "delete_cmd_prefix": "rm(",
     "library": "var_list.r",
     "varRefreshCmd": "cat(var_dic_list()) "
    }
   },
   "types_to_exclude": [
    "module",
    "function",
    "builtin_function_or_method",
    "instance",
    "_Feature"
   ],
   "window_display": false
  }
 },
 "nbformat": 4,
 "nbformat_minor": 4
}
