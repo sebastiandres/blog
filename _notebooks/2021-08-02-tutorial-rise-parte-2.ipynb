{
 "cells": [
  {
   "cell_type": "markdown",
   "metadata": {
    "slideshow": {
     "slide_type": "skip"
    }
   },
   "source": [
    "# Tutorial de RISE - parte 2\n",
    "> Aspectos intermedios para hacer presentaciones interactivas con jupyter notebooks\n",
    "\n",
    "- featured: false\n",
    "- hide: false\n",
    "- toc: true\n",
    "- badges: true\n",
    "- comments: true\n",
    "- categories: [jupyter, rise]\n",
    "- image: images/preview/rise.gif\n",
    "- permalink: /tutorial-rise-2/"
   ]
  },
  {
   "cell_type": "markdown",
   "metadata": {
    "slideshow": {
     "slide_type": "slide"
    }
   },
   "source": [
    "Esta es la parte 2 de 3 del [tutorial de presentaciones interactivas en jupyter notebook](https://sebastiandres.github.io/blog/tutorial-rise/)."
   ]
  },
  {
   "cell_type": "markdown",
   "metadata": {
    "slideshow": {
     "slide_type": "slide"
    }
   },
   "source": [
    "## ¿Como puedo compartir la presentación?\n",
    "\n",
    "Compartir la presentación suele ser uno de los pasos más importantes y sencillos. Existe la opción de\n",
    "compartir el código en un repositorio, en html dinámico e interactivo mediante mybinder, en html estático o en pdf."
   ]
  },
  {
   "cell_type": "markdown",
   "metadata": {
    "slideshow": {
     "slide_type": "slide"
    }
   },
   "source": [
    "### Repositorio\n",
    "\n",
    "No trabajes en local. Siempre conviene armar un repositorio e ir respaldando la presentación en línea en github, bitbucket, gitlab o tu proveedor de preferencia. Asegúrate de tener un archivo `requirements.txt` que contenga las dependencias que se requieren para poder ejecutar las distintas celdas de código de tu presentación, y de incluir todo el código, datos e imágenes. Es un esfuerzo adicional en el presente que siempre se agradece.\n",
    "\n",
    "En particular en github resulta atractivo tener un archivo index.html (o un README.md) con las distintas opciones de visulización para el archivo. Yo he diseñado un template con un formato fijo que reutilizo para las distintas presentaciones, y que así se ve para una de mis charlas (Pycon Colombia 2020):\n",
    "\n",
    "![](2021-08-02-tutorial-rise-parte-2/indexhtml.png)\n",
    "\n",
    "Creé el formato para para emular a linktree, de manera de reutilizarlo con mínimo esfuerzo. Escribí al respecto en este [post](https://sebastiandres.github.io/blog/linktree/)."
   ]
  },
  {
   "cell_type": "markdown",
   "metadata": {
    "slideshow": {
     "slide_type": "slide"
    }
   },
   "source": [
    "### Comparte con mybinder\n",
    "\n",
    "LOREM IPSUM"
   ]
  },
  {
   "cell_type": "markdown",
   "metadata": {
    "slideshow": {
     "slide_type": "slide"
    }
   },
   "source": [
    "### Exporta a html\n",
    "\n",
    "Para generar un html funcional de las diapositivas, tienes que hacer en el terminal:\n",
    "\n",
    "```\n",
    "jupyter nbconvert --to slides your_talk.ipynb\n",
    "```\n",
    "\n",
    "donde `you_talk.ipynb` es, por supuesto, el nombre de tu notebook-presentación.\n",
    "\n",
    "Se generará un archivo html estático de tu presentación, que puedes visualizar sin mayores dependencias."
   ]
  },
  {
   "cell_type": "markdown",
   "metadata": {
    "slideshow": {
     "slide_type": "slide"
    }
   },
   "source": [
    "### Exporta a pdf\n",
    "\n",
    "\n",
    "**TRADUCIR**\n",
    "\n",
    "Generar la presentación en pdf requiere más pasos:\n",
    "\n",
    "*  Generate the slides and serve them using nbconvert:\n",
    "```\n",
    "jupyter nbconvert --to slides your_talk.ipynb --post serve\n",
    "```\n",
    "It opens up a webpage in the browser at `http://127.0.0.1:8000/your_talk.slides.html#/`\n",
    "\n",
    "* Add ?print-pdf to the query string as `http://127.0.0.1:8000/your_talk.slides.html?print-pdf`\n",
    "\n",
    "Note that you need to remove the # at the end. The page will render the slides vertically.\n",
    "\n",
    "* Save to PDF in Chrome using the print option.\n",
    "  * Open the in-browser print dialog (Cmd/Ctrl + P).\n",
    "  * Change the Destination setting to Save as PDF.\n",
    "  * Change the Layout to Landscape.\n",
    "  * Change the Margins to None.\n",
    "  * Enable the Background graphics option.\n",
    "  * Click Save.\n",
    "\n",
    "Ejemplo GIF.\n",
    "\n",
    "La documentación oficial para exportar a pdf está [acá](https://rise.readthedocs.io/en/stable/exportpdf.html)."
   ]
  },
  {
   "cell_type": "markdown",
   "metadata": {
    "slideshow": {
     "slide_type": "slide"
    }
   },
   "source": [
    "## ¿Cómo configuro el diseño de RISE?\n",
    "\n",
    "### General\n",
    "Todas las configuraciones de RISE se realizan **editando la metadata del notebook**. Para ello, tienes que ir a `Edit/Edit notebook metadata` y agregar la(s) opcion(es) deseadas.\n",
    "\n",
    "\n",
    "**GIF**"
   ]
  },
  {
   "cell_type": "markdown",
   "metadata": {
    "slideshow": {
     "slide_type": "slide"
    }
   },
   "source": [
    "La metadata es un diccionario json con las distintas opciones de todo el notebook, a lo cual hay que **agregar** las opciones que se quieren activar para rise:\n",
    "\n",
    "```json\n",
    " \"rise\": {\n",
    "             \"opcion_1\": valor_opcion_1,\n",
    "                      ...\n",
    "             \"opcion_n\": valor_opcion_n,\n",
    "         }\n",
    "````\n",
    "\n",
    "\n",
    "**Observación importante**: \n",
    "\n",
    "Cada vez que editas la metadata, es necesario cerrar (apagar) el notebook y volver a abrirlo para que se recarguen las opciones. \n"
   ]
  },
  {
   "cell_type": "markdown",
   "metadata": {
    "slideshow": {
     "slide_type": "slide"
    }
   },
   "source": [
    "### Lanzar RISE de manera automática\n",
    "\n",
    "Permite que al activar un jupyter notebook, este se ejecute en modo presentación de manera automática. ¡Opción ampliamente recomendada! \n",
    "\n",
    "En la metadata del notebook se agrega la opción de \"autolaunch\" con valor `true` (todo en minúsculas, ¡es verdadero de javascript, no de Python!):\n",
    "\n",
    "```json\n",
    " \"rise\": {\"autolaunch\": true}\n",
    "````\n",
    "\n",
    "De esta manera, si publicas tu jupyter notebook con mybinder.org, se mostrará en modo presentación automáticamente (audiencia no necesitará saber donde está el botón de “iniciar presentación\").\n",
    "\n",
    "**GIF**"
   ]
  },
  {
   "cell_type": "markdown",
   "metadata": {
    "slideshow": {
     "slide_type": "slide"
    }
   },
   "source": [
    "### Eligiendo un tema\n",
    "\n",
    "El tema de la presentación controla el aspecto general de la presentación. \n",
    "\n",
    "\n",
    "En la metadata del notebook se agrega la opción de \"theme\" con el nombre del tema deseado:\n",
    "\n",
    "```json\n",
    " \"rise\": {\"theme\": \"sky\"}\n",
    "````\n",
    "\n",
    "\n",
    "Existen 11 opciones, que se heredan de la librería [revealjs](https://revealjs.com/themes/):\n",
    "\n",
    "* black: Fondo negro, letras blancas, links azules.\n",
    "* white: Fondo blanco, letras negras, links azules.\n",
    "* league: Fondo gris, letras blancas, links zules.\n",
    "* beige: Fondo beige, letras oscuras, links cafés.\n",
    "* sky: Fondo celeste, letras oscuras, links azules. \n",
    "* night: Fondo negro, letras blancas, links naranjos. \n",
    "* serif: Fondo café, letras grises, links cafés. \n",
    "* simple: Fondo blanco, letras negras, links azules. \n",
    "* solarized: Fondo blanco crema, letras verde oscuro, links azules.\n",
    "* blood: Fondo oscuro, letras blancas, links rojos.\n",
    "* moon: Fondo azul oscuro, letras grises, links azules.\n",
    "\n",
    "Un [blog](https://dev.to/emmabostian/how-to-build-a-captivating-presentation-using-html-css--javascript-nno) compiló las distintas versiones de los temas en una sola imagen:\n",
    "\n",
    "![Themes](2021-08-02-tutorial-rise-parte-2/themes.jpeg)\n"
   ]
  },
  {
   "cell_type": "markdown",
   "metadata": {
    "slideshow": {
     "slide_type": "slide"
    }
   },
   "source": [
    "### Eligiendo una transición\n",
    "El tipo de transición entre slides se define de manera similar. En la metadata del notebook se agrega la opción de \"transition\" con el nombre de la transición deseada:\n",
    "\n",
    "```json\n",
    " \"rise\": {\"transition\": \"zoom\"}\n",
    "```\n",
    "\n",
    "Las opciones  (heredadas de las existentes en la librería revealjs https://revealjs.com/themes/ ) son:\n",
    "\n",
    "* none: Cambiar intantáneamente.\n",
    "* fade\tCross fade — default for background transitions\n",
    "* slide\tSlide between backgrounds — default for slide transitions\n",
    "* convex\tSlide at a convex angle\n",
    "* concave\tSlide at a concave angle\n",
    "* zoom\tScale the incoming slide up so it grows in from the center of the screen"
   ]
  },
  {
   "cell_type": "markdown",
   "metadata": {
    "slideshow": {
     "slide_type": "slide"
    }
   },
   "source": [
    "### Definiendo una imagen de fondos\n",
    "\n",
    "Simplemente, usar:\n",
    "\n",
    "```json\n",
    "\"rise\": {\n",
    "     \"backimage\": \"mybackimage.png\",\n",
    " }\n",
    "}\n",
    "```\n",
    "\n",
    "Esta opción es útil si quieres un fondo personalizado, como a veces se exige en algunos congresos."
   ]
  },
  {
   "cell_type": "markdown",
   "metadata": {
    "slideshow": {
     "slide_type": "slide"
    }
   },
   "source": [
    "### Definiendo header y footer:\n",
    "Simplemente, usar:\n",
    "\n",
    "```json\n",
    "\"rise\": {\n",
    "     \"header\": \"<h1>Hola</h1>\",\n",
    "     \"footer\": \"<h3>Mundo</h3>\"\n",
    " }\n",
    "}\n",
    "```\n",
    "\n",
    "\n"
   ]
  },
  {
   "cell_type": "markdown",
   "metadata": {},
   "source": [
    "## ¿Cómo activo la pizarra?\n",
    "\n",
    "Es posible activar una pizarra (chalkboard) para realizar anotaciones durante la presentación.\n",
    "\n",
    "Para eso, en Edit/Edit Notebook Metadata, es necesario agregar el siguiente texto a la metadata del jupyter notebook:\n",
    "\n",
    "```json\n",
    "{\n",
    " ...\n",
    " \"rise\": {\"enable_chalkboard\": true}\n",
    "}\n",
    "```\n",
    "\n",
    "\n",
    "**Observación: Luego de editar la metadata, debes cerrar (detener) el notebook y volver a abrirlo, para que la metadata se cargue.**"
   ]
  },
  {
   "cell_type": "markdown",
   "metadata": {},
   "source": [
    "Durante la presentación se puede utilizar la pizarra haciendo click en los íconos, que permiten dibujar en una pizarra o sobre las diapositivas.\n",
    "\n",
    "Es posible cambiar de color de lapiz presionando `s` y `q`. Se puede borrar la pizarra con `-`.\n",
    "\n",
    "![](2021-08-02-tutorial-rise-parte-2/pizarra.gif)\n",
    "\n",
    "Las anotaciones se preservan incluso al cerrar el modo presentación. Sin embargo, no se guardan al cerrar el notebook."
   ]
  },
  {
   "cell_type": "markdown",
   "metadata": {
    "slideshow": {
     "slide_type": "slide"
    }
   },
   "source": [
    "## Importante consejo final\n",
    "\n",
    "Tantas opciones pueden ser sobrecogedoras. En mi caso, tengo el siguiente json en todos mis notebooks con lo cual no tengo que memorizar nada, y sólo adapto según necesito. \n",
    "Como no se puede tener comentarios en un json, lo que hago es simpemente agregar un `_` antes de las opciones que no se deben usar:\n",
    "\n",
    "```json\n",
    "\"rise\": {\n",
    "        \"autolaunch\": true,\n",
    "        \"enable_chalkboard\": true\n",
    "        \"theme\": \"black\",\n",
    "        \"transition\": \"zoom\",\n",
    "        \"_header\": \"<h1>PRESENTATION NAME // EVENTs</h1>\",\n",
    "        \"_footer\": \"<h3>NAME, DATE</h3>\",\n",
    "        \"_backimage\": \"path/to/mybackimage.png\",\n",
    "        \"_theme_options\": [ \"black\", \"white\", \"league\", \"beige\", \n",
    "                           \"sky\", \"night\", \"serif\"], \n",
    "        \"_transition_options\": [\"none\", \"fade\", \"slide\", \"convex\", \"concave\", \"zoom\"],\n",
    "        }\n",
    "```"
   ]
  },
  {
   "cell_type": "code",
   "execution_count": null,
   "metadata": {},
   "outputs": [],
   "source": []
  }
 ],
 "metadata": {
  "celltoolbar": "Slideshow",
  "kernelspec": {
   "display_name": "Python 3",
   "language": "python",
   "name": "python3"
  },
  "language_info": {
   "codemirror_mode": {
    "name": "ipython",
    "version": 3
   },
   "file_extension": ".py",
   "mimetype": "text/x-python",
   "name": "python",
   "nbconvert_exporter": "python",
   "pygments_lexer": "ipython3",
   "version": "3.7.4"
  },
  "nbTranslate": {
   "displayLangs": [
    "*"
   ],
   "hotkey": "alt-t",
   "langInMainMenu": true,
   "sourceLang": "en",
   "targetLang": "fr",
   "useGoogleTranslate": true
  },
  "rise": {
   "_backimage": "path/to/mybackimage.png",
   "_footer": "<h3>NAME, DATE</h3>",
   "_header": "<h1>PRESENTATION NAME // EVENTs</h1>",
   "_theme_options": [
    "black",
    "white",
    "league",
    "beige",
    "sky",
    "night",
    "serif"
   ],
   "_transition_options": [
    "none",
    "fade",
    "slide",
    "convex",
    "concave",
    "zoom"
   ],
   "autolauch": false,
   "enable_chalkboard": true,
   "theme": "serif",
   "transition": "slide"
  },
  "varInspector": {
   "cols": {
    "lenName": 16,
    "lenType": 16,
    "lenVar": 40
   },
   "kernels_config": {
    "python": {
     "delete_cmd_postfix": "",
     "delete_cmd_prefix": "del ",
     "library": "var_list.py",
     "varRefreshCmd": "print(var_dic_list())"
    },
    "r": {
     "delete_cmd_postfix": ") ",
     "delete_cmd_prefix": "rm(",
     "library": "var_list.r",
     "varRefreshCmd": "cat(var_dic_list()) "
    }
   },
   "types_to_exclude": [
    "module",
    "function",
    "builtin_function_or_method",
    "instance",
    "_Feature"
   ],
   "window_display": false
  }
 },
 "nbformat": 4,
 "nbformat_minor": 4
}
