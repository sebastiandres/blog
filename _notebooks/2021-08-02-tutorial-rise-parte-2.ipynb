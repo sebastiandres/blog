{
 "cells": [
  {
   "cell_type": "markdown",
   "metadata": {
    "slideshow": {
     "slide_type": "skip"
    }
   },
   "source": [
    "# Tutorial de RISE - parte 2\n",
    "> Aspectos intermedios para hacer presentaciones interactivas con jupyter notebooks\n",
    "\n",
    "- featured: false\n",
    "- hide: false\n",
    "- toc: true\n",
    "- badges: true\n",
    "- comments: true\n",
    "- categories: [jupyter, rise]\n",
    "- image: images/preview/rise.gif\n",
    "- permalink: /tutorial-rise-2/"
   ]
  },
  {
   "cell_type": "markdown",
   "metadata": {
    "slideshow": {
     "slide_type": "slide"
    }
   },
   "source": [
    "Esta es la parte 2 de 3 del [tutorial de presentaciones interactivas en jupyter notebook](https://sebastiandres.github.io/blog/tutorial-rise/)."
   ]
  },
  {
   "cell_type": "markdown",
   "metadata": {
    "slideshow": {
     "slide_type": "slide"
    }
   },
   "source": [
    "## ¿Como puedo compartir la presentación?\n",
    "\n",
    "Compartir la presentación suele ser uno de los pasos más importantes y sencillos. Existe la opción de\n",
    "compartir el código en un repositorio, en línea mediante mybinder, en html o en pdf.\n",
    "\n",
    "### Comparte un repositorio\n",
    "\n",
    "No trabajes en local. Arma un repositorio y respáldalo en github/bitbucket/etc.\n",
    "Si es algo frecuente, conviene usar un template. Asegurarse que tiene requirements.txt funcional\n",
    "Crear la presentación.\n",
    "\n",
    "Una página principal index.html permitirá entregar a la audiencia distintas opciones de visualización.\n",
    "\n",
    "Ejemplo de mi index.html\n",
    "\n",
    "Yo cree un index.html para emular a linktree, que reutilizo con mínimo esfuerzo."
   ]
  },
  {
   "cell_type": "markdown",
   "metadata": {
    "slideshow": {
     "slide_type": "slide"
    }
   },
   "source": [
    "### Exporta a html\n",
    "\n",
    "Para generar un html funcional de las diapositivas, tienes que hacer \n",
    "```\n",
    "python nbconvert nombre_archivo.ipynb ### FIX \n",
    "```\n"
   ]
  },
  {
   "cell_type": "markdown",
   "metadata": {
    "slideshow": {
     "slide_type": "slide"
    }
   },
   "source": [
    "### Exporta a pdf\n",
    "\n",
    "Habiendo generado la versión estática en html, tienes que abrirla con las siguientes opciones...\n",
    "\n",
    "Agregar ?export...\n",
    "\n",
    "Ejemplo GIF."
   ]
  },
  {
   "cell_type": "markdown",
   "metadata": {
    "slideshow": {
     "slide_type": "slide"
    }
   },
   "source": [
    "### Comparte con mybinder\n",
    "\n",
    "LOREM IPSUM"
   ]
  },
  {
   "cell_type": "markdown",
   "metadata": {
    "slideshow": {
     "slide_type": "slide"
    }
   },
   "source": [
    "## ¿Cómo configuro el diseño de RISE?\n",
    "\n",
    "### General\n",
    "Todas las configuraciones de RISE se realizan editando la metadata del notebook. La metadata es un diccionario json con las distintas opciones de todo el notebook, a lo cual hay que **agregar** las opciones que se quieren activar para rise:\n",
    "\n",
    "```json\n",
    " \"rise\": {\n",
    "             \"opcion_1\": valor_opcion_1,\n",
    "                      ...\n",
    "             \"opcion_n\": valor_opcion_n,\n",
    "         }\n",
    "````\n",
    "\n",
    "\n",
    "Observación: Cada vez que editas la metadata, es necesario cerrar (apagar) el notebook y volver a abrirlo para que se recarguen las opciones. \n"
   ]
  },
  {
   "cell_type": "markdown",
   "metadata": {
    "slideshow": {
     "slide_type": "slide"
    }
   },
   "source": [
    "### Lanzar RISE de manera automática\n",
    "\n",
    "Permite que al activar un jupyter notebook, este se ejecute en modo presentación de manera automática. ¡Opción ampliamente recomendada! En la metadata del notebook se agrega la opción de \"autolaunch\" con valor true:\n",
    "\n",
    "```json\n",
    " \"rise\": {\"autolaunch\": true}\n",
    "````\n",
    "\n",
    "De esta manera, si publicas tu jupyter notebook con mybinder.org, se mostrará en modo presentación automáticamente (audiencia no necesitará saber donde está el botón de “iniciar presentación\")."
   ]
  },
  {
   "cell_type": "markdown",
   "metadata": {
    "slideshow": {
     "slide_type": "slide"
    }
   },
   "source": [
    "### Eligiendo un tema\n",
    "\n",
    "El tema de la presentación controla el aspecto general de la presentación. \n",
    "\n",
    "Existen 11 opciones, que se heredan de la librería [revealjs](https://revealjs.com/themes/):\n",
    "\n",
    "* black: Fondo negro, letras blancas, links azules.\n",
    "* white: White background, black text, blue links\n",
    "* league: Gray background, white text, blue links\n",
    "* beige:\tBeige background, dark text, brown links\n",
    "* sky: \tBlue background, thin dark text, blue links\n",
    "* night: \tBlack background, thick white text, orange links\n",
    "* serif:\tCappuccino background, gray text, brown links\n",
    "* simple:\tWhite background, black text, blue links\n",
    "* solarized:\tCream-colored background, dark green text, blue links\n",
    "* blood:\tDark background, thick white text, red links\n",
    "* moon:\tDark blue background, thick grey text, blue links\n",
    "\n",
    "En la metadata del notebook se agreuga la opción de \"theme\" con el nombre del tema deseado:\n",
    "\n",
    "```json\n",
    " \"rise\": {\"theme\": \"sky\"}\n",
    "````\n",
    "\n"
   ]
  },
  {
   "cell_type": "markdown",
   "metadata": {
    "slideshow": {
     "slide_type": "slide"
    }
   },
   "source": [
    "### Eligiendo una transición\n",
    "El tipo de transición entre slides se define de manera similar. Las opciones  (heredadas de las existentes en la librería revealjs https://revealjs.com/themes/ ) son:\n",
    "\n",
    "* none\tSwitch backgrounds instantly\n",
    "* fade\tCross fade — default for background transitions\n",
    "* slide\tSlide between backgrounds — default for slide transitions\n",
    "* convex\tSlide at a convex angle\n",
    "* concave\tSlide at a concave angle\n",
    "* zoom\tScale the incoming slide up so it grows in from the center of the screen\n",
    "\n",
    "En la metadata del notebook se agrega la opción de \"transition\" con el nombre de la transición deseada:\n",
    "\n",
    "```json\n",
    " \"rise\": {\"transition\": \"zoom\"}\n",
    "```\n"
   ]
  },
  {
   "cell_type": "markdown",
   "metadata": {
    "slideshow": {
     "slide_type": "slide"
    }
   },
   "source": [
    "### Definiendo una imagen de fondos\n",
    "\n",
    "Simplemente, usar:\n",
    "\n",
    "```json\n",
    "\"rise\": {\n",
    "     \"backimage\": \"mybackimage.png\",\n",
    " }\n",
    "}\n",
    "```\n",
    "\n",
    "Esta opción es útil si quieres un fondo personalizado, como a veces se exige en algunos congresos."
   ]
  },
  {
   "cell_type": "markdown",
   "metadata": {
    "slideshow": {
     "slide_type": "slide"
    }
   },
   "source": [
    "### Definiendo header y footer:\n",
    "Simplemente, usar:\n",
    "\n",
    "```json\n",
    "\"rise\": {\n",
    "     \"header\": \"<h1>Hola</h1>\",\n",
    "     \"footer\": \"<h3>Mundo</h3>\"\n",
    " }\n",
    "}\n",
    "```\n",
    "\n",
    "\n"
   ]
  },
  {
   "cell_type": "markdown",
   "metadata": {},
   "source": [
    "## ¿Cómo activo la pizarra?\n",
    "\n",
    "Es posible activar una pizarra (chalkboard) para realizar anotaciones durante la presentación.\n",
    "\n",
    "Para eso, en Edit/Edit Notebook Metadata, es necesario agregar el siguiente texto a la metadata del jupyter notebook:\n",
    "\n",
    "```json\n",
    "{\n",
    " ...\n",
    " \"rise\": {\"enable_chalkboard\": true}\n",
    "}\n",
    "```\n",
    "\n",
    "![](2021-08-02-tutorial-rise-parte-1/metadata.gif)\n",
    "\n",
    "**Observación: Luego de editar la metadata, debes cerrar (detener) el notebook y volver a abrirlo, para que la metadata se cargue.**"
   ]
  },
  {
   "cell_type": "markdown",
   "metadata": {},
   "source": [
    "Durante la presentación se puede utilizar la pizarra haciendo click en los íconos, que permiten dibujar en una pizarra o sobre las diapositivas.\n",
    "\n",
    "Es posible cambiar de color de lapiz presionando `s` y `q`. Se puede borrar la pizarra con `-`.\n",
    "\n",
    "![](2021-08-02-tutorial-rise-parte-1/pizarra.gif)\n",
    "\n",
    "Las anotaciones se preservan incluso al cerrar el modo presentación. Sin embargo, no se guardan al cerrar el notebook."
   ]
  },
  {
   "cell_type": "markdown",
   "metadata": {
    "slideshow": {
     "slide_type": "slide"
    }
   },
   "source": [
    "## Importante consejo final\n",
    "\n",
    "Tantas opciones pueden ser sobrecogedoras. En mi caso, tengo el siguiente json en todos mis notebooks con lo cual no tengo que memorizar nada, y sólo adapto según necesito. \n",
    "Como no se puede tener comentarios en un json, lo que hago es simpemente agregar un `_` antes de las opciones que no se deben usar:\n",
    "\n",
    "```json\n",
    "\"rise\": {\n",
    "        \"autolaunch\": true,\n",
    "        \"enable_chalkboard\": true\n",
    "        \"theme\": \"black\",\n",
    "        \"transition\": \"zoom\",\n",
    "        \"_header\": \"<h1>PRESENTATION NAME // EVENTs</h1>\",\n",
    "        \"_footer\": \"<h3>NAME, DATE</h3>\",\n",
    "        \"_backimage\": \"path/to/mybackimage.png\",\n",
    "        \"_theme_options\": [ \"black\", \"white\", \"league\", \"beige\", \n",
    "                           \"sky\", \"night\", \"serif\"], \n",
    "        \"_transition_options\": [\"none\", \"fade\", \"slide\", \"convex\", \"concave\", \"zoom\"],\n",
    "        }\n",
    "```"
   ]
  },
  {
   "cell_type": "code",
   "execution_count": null,
   "metadata": {},
   "outputs": [],
   "source": []
  }
 ],
 "metadata": {
  "celltoolbar": "Slideshow",
  "kernelspec": {
   "display_name": "Python 3",
   "language": "python",
   "name": "python3"
  },
  "language_info": {
   "codemirror_mode": {
    "name": "ipython",
    "version": 3
   },
   "file_extension": ".py",
   "mimetype": "text/x-python",
   "name": "python",
   "nbconvert_exporter": "python",
   "pygments_lexer": "ipython3",
   "version": "3.7.4"
  },
  "nbTranslate": {
   "displayLangs": [
    "*"
   ],
   "hotkey": "alt-t",
   "langInMainMenu": true,
   "sourceLang": "en",
   "targetLang": "fr",
   "useGoogleTranslate": true
  },
  "rise": {
   "_backimage": "path/to/mybackimage.png",
   "_footer": "<h3>NAME, DATE</h3>",
   "_header": "<h1>PRESENTATION NAME // EVENTs</h1>",
   "_theme_options": [
    "black",
    "white",
    "league",
    "beige",
    "sky",
    "night",
    "serif"
   ],
   "_transition_options": [
    "none",
    "fade",
    "slide",
    "convex",
    "concave",
    "zoom"
   ],
   "autolauch": false,
   "enable_chalkboard": true,
   "theme": "serif",
   "transition": "slide"
  },
  "varInspector": {
   "cols": {
    "lenName": 16,
    "lenType": 16,
    "lenVar": 40
   },
   "kernels_config": {
    "python": {
     "delete_cmd_postfix": "",
     "delete_cmd_prefix": "del ",
     "library": "var_list.py",
     "varRefreshCmd": "print(var_dic_list())"
    },
    "r": {
     "delete_cmd_postfix": ") ",
     "delete_cmd_prefix": "rm(",
     "library": "var_list.r",
     "varRefreshCmd": "cat(var_dic_list()) "
    }
   },
   "types_to_exclude": [
    "module",
    "function",
    "builtin_function_or_method",
    "instance",
    "_Feature"
   ],
   "window_display": false
  }
 },
 "nbformat": 4,
 "nbformat_minor": 4
}
