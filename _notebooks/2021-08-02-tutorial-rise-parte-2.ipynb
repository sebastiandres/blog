{
 "cells": [
  {
   "cell_type": "markdown",
   "metadata": {
    "slideshow": {
     "slide_type": "skip"
    }
   },
   "source": [
    "# Tutorial de RISE - parte 2\n",
    "> Aspectos intermedios para hacer presentaciones interactivas con jupyter notebooks\n",
    "\n",
    "- featured: false\n",
    "- hide: false\n",
    "- toc: true\n",
    "- badges: true\n",
    "- comments: true\n",
    "- categories: [jupyter, rise]\n",
    "- image: images/preview/rise.gif\n",
    "- permalink: /tutorial-rise-2/"
   ]
  },
  {
   "cell_type": "markdown",
   "metadata": {
    "slideshow": {
     "slide_type": "slide"
    }
   },
   "source": [
    "Esta es la parte 2 de 3 del [tutorial de presentaciones interactivas en jupyter notebook](https://sebastiandres.github.io/blog/tutorial-rise/)."
   ]
  },
  {
   "cell_type": "markdown",
   "metadata": {
    "slideshow": {
     "slide_type": "slide"
    }
   },
   "source": [
    "## ¿Cómo puedo compartir la presentación?\n",
    "\n",
    "Compartir la presentación suele ser uno de los pasos más importantes y sencillos. Existen muchas opciones: compartir el código en un repositorio, mediante mybinder de manera completamente interactiva, como html estático o como pdf."
   ]
  },
  {
   "cell_type": "markdown",
   "metadata": {
    "slideshow": {
     "slide_type": "slide"
    }
   },
   "source": [
    "### Repositorio\n",
    "\n",
    "No trabajes en local. Siempre es más conveniente ir versionando los archivos mediante `git` en un repositorio. Ese repositorio puede respaldarse en línea, en un proveedor como github, bitbucket, gitlab o tu u otro de tu preferencia. El proveedor [github](https://github.com/) es una buena opción gratuita que tiene muchas integraciones y complementos.\n",
    "\n",
    "Asegúrate de tener un archivo `requirements.txt` que contenga las librerías que se requieren para poder ejecutar las distintas celdas de código de tu presentación. No olvides incluir todo el código, datos e imágenes.\n",
    "\n",
    "Resulta útil tener un archivo `README.md` con la descripción del repositorio, y enlaces a las distintas opciones de visulización para el archivo. \n",
    "\n",
    "En github, para un usuario `nombre_usuario` en un repo `nombre_repo`, puedes además crear una página `index.html` , y de esa manera al activar \"Gitub Pages\" la página estará accesible en `https://nombre_usuario.github.io/nombre_repo/`. De manera más general, un archivo en la ruta `/ruta_carpetas/nombre_archivo.html` se visualizará en `https://nombre_usuario.github.io/nombre_repo/ruta_carpetas/nombre_archivo.html`."
   ]
  },
  {
   "cell_type": "markdown",
   "metadata": {
    "slideshow": {
     "slide_type": "slide"
    }
   },
   "source": [
    "Yo he diseñado un template con un formato fijo que reutilizo para las distintas presentaciones, y que así se ve para una de mis charlas (Pycon Colombia 2020):\n",
    "\n",
    "![](2021-08-02-tutorial-rise-parte-2/indexhtml.png)\n",
    "\n",
    "Creé el formato para para emular a linktree, de manera de reutilizarlo con mínimo esfuerzo. Escribí al respecto en este [post](https://sebastiandres.github.io/blog/linktree/)."
   ]
  },
  {
   "cell_type": "markdown",
   "metadata": {
    "slideshow": {
     "slide_type": "slide"
    }
   },
   "source": [
    "### mybinder\n",
    "\n",
    "[Binder](https://mybinder.org) es un servicio que permite lanzar un jupyter notebook en el navegador y en la nube, sin consumir recursos de tu computador y de manera completamente gratuita. Resulta práctico para que otras personas pueden ver la presentación de manera interactiva sin tener que instalar nada en su computador, ¡incluso desde un smartphone o tablet!\n",
    "\n",
    "Para usar mybinder, debes tener tu repositorio en github. "
   ]
  },
  {
   "cell_type": "markdown",
   "metadata": {
    "slideshow": {
     "slide_type": "slide"
    }
   },
   "source": [
    "En [Binder](https://mybinder.org) puedes introducir los distintos parámetros:\n",
    "* Usuario github: nombre_usuario\n",
    "* Nombre repositorio: nombre_repositorio\n",
    "* Nombre de la rama del repositorio: nombre_rama\n",
    "* Ruta al archivo: ruta_carpetas\n",
    "* Nombre del archivo: nombre_archivo.ipynb\n",
    "* En la rama, en el directorio principal, debe existir el archivo `requirements.txt` \n",
    "\n",
    "Al acceder a la siguiente página se ejecutará el jupyter notebook, incluyendo la extensión RISE si la colocaste en los `requirements.txt`: \n",
    "```\n",
    "https://mybinder.org/v2/gh/nombre_usuario/nombre_repositorio/nombre_rama?filepath=ruta_carpetas/nombre_archivo.ipynb\n",
    "```"
   ]
  },
  {
   "cell_type": "markdown",
   "metadata": {
    "slideshow": {
     "slide_type": "slide"
    }
   },
   "source": [
    "### Exporta a html\n",
    "\n",
    "Para generar un html funcional de las diapositivas, tienes que hacer en el terminal:\n",
    "\n",
    "```\n",
    "jupyter nbconvert --to slides ruta_carpeta/nombre_archivo.ipynb\n",
    "```\n",
    "\n",
    "donde `ruta_carpeta/nombre_archivo` es, por supuesto, la ruta a tu notebook-presentación.\n",
    "\n",
    "Se generará un archivo html estático de tu presentación, con el nombre `ruta_carpeta/nombre_archivo.slides.html`.\n",
    "Esta página web en html puedes visualizarse en el navegador sin mayores dependencias, pero donde no podrás editar o ejecutar las celdas. Si ya realisaste tu presentación, puedes guardarla en el repositorio como un respaldo adicional."
   ]
  },
  {
   "cell_type": "markdown",
   "metadata": {
    "slideshow": {
     "slide_type": "slide"
    }
   },
   "source": [
    "### Exporta a pdf\n",
    "\n",
    "\n",
    "Para generar la presentación en pdf se requieren 3 pasos:\n",
    "\n",
    "1.  Genera las diapositivas en html, usando nbconvert, para que queden \"activas\":\n",
    "```\n",
    "jupyter nbconvert --to slides ruta_carpeta/nombre_archivo.ipynb --post serve\n",
    "```\n",
    "\n",
    "  Se abrirá una página web en el navegador, en la dirección `http://127.0.0.1:8000/nombre_archivo.slides.html#/`\n",
    "\n",
    "2. Edita la ruta, para que sea `http://127.0.0.1:8000/nombre_archivo.slides.html?print-pdf`. Nota que hay que reemplazar `#/` por `?print-pdf`. La página mostrará ahora las diapositivas de manera vertical.\n",
    "\n",
    "3. Finalmente, guarda la página web como pdf. Puedes jugar con distintas opciones según necesites (sin márgenes, activar imágenes de fondo, etc.)\n",
    "\n",
    "La documentación oficial para exportar a pdf está [acá](https://rise.readthedocs.io/en/stable/exportpdf.html)."
   ]
  },
  {
   "cell_type": "markdown",
   "metadata": {
    "slideshow": {
     "slide_type": "slide"
    }
   },
   "source": [
    "## ¿Cómo configuro el diseño de RISE?\n",
    "\n",
    "### General\n",
    "Todas las configuraciones de RISE se realizan **editando la metadata del notebook**. Para ello, tienes que ir a `Edit/Edit notebook metadata` y agregar la(s) opcion(es) deseadas.\n",
    "\n",
    "![Metadata](2021-08-02-tutorial-rise-parte-2/metadata.gif)"
   ]
  },
  {
   "cell_type": "markdown",
   "metadata": {
    "slideshow": {
     "slide_type": "slide"
    }
   },
   "source": [
    "La metadata es un diccionario json con las distintas opciones de todo el notebook. Por defecto, no trae ninguna opción cargada de RISE. Por eso, tenemos que **agregar** las opciones que se quieren configurar:\n",
    "\n",
    "```json\n",
    " \"rise\": {\n",
    "             \"opcion_1\": valor_opcion_1,\n",
    "                      ...\n",
    "             \"opcion_n\": valor_opcion_n,\n",
    "         }\n",
    "````\n",
    "\n",
    "\n",
    "**Observación importante**: \n",
    "\n",
    "Cada vez que editas la metadata, es necesario cerrar (apagar) el notebook y volver a abrirlo para que se recarguen las opciones. \n"
   ]
  },
  {
   "cell_type": "markdown",
   "metadata": {
    "slideshow": {
     "slide_type": "slide"
    }
   },
   "source": [
    "### Lanzar RISE de manera automática\n",
    "\n",
    "Permite que al activar un jupyter notebook, este se ejecute en modo presentación de manera automática. ¡Opción ampliamente recomendada! \n",
    "\n",
    "En la metadata del notebook se agrega la opción de \"autolaunch\" con valor `true` (todo en minúsculas, ¡es verdadero de javascript, no de Python!):\n",
    "\n",
    "```json\n",
    " \"rise\": {\"autolaunch\": true}\n",
    "````\n",
    "\n",
    "De esta manera, si publicas tu jupyter notebook con mybinder.org, se mostrará en modo presentación automáticamente (audiencia no necesitará saber donde está el botón de “iniciar presentación\", por ejemplo si lo compartes en mybinder).\n",
    "\n",
    "![Metadata](2021-08-02-tutorial-rise-parte-2/autolaunch.gif)"
   ]
  },
  {
   "cell_type": "markdown",
   "metadata": {
    "slideshow": {
     "slide_type": "slide"
    }
   },
   "source": [
    "### Eligiendo un tema\n",
    "\n",
    "El tema de la presentación controla el aspecto general de la presentación. \n",
    "\n",
    "\n",
    "En la metadata del notebook se agrega la opción de \"theme\" con el nombre del tema deseado:\n",
    "\n",
    "```json\n",
    " \"rise\": {\"theme\": \"sky\"}\n",
    "````\n",
    "\n",
    "Existen 11 opciones, que se heredan de la librería [revealjs](https://revealjs.com/themes/):\n",
    "\n",
    "* **black**: Fondo negro, letras blancas, links azules.\n",
    "* **white**: Fondo blanco, letras negras, links celestes.\n",
    "* **league**: Fondo gris, letras blancas, links celestes.\n",
    "* **sky**: Fondo celeste, letras oscuras, links azules. \n",
    "* **beige**: Fondo beige, letras oscuras, links cafés.\n",
    "* **simple**: Fondo blanco, letras negras, links azules. \n",
    "* **serif**: Fondo café, letras grises, links cafés. \n",
    "* **night**: Fondo negro, letras blancas, links naranjos. \n",
    "* **blood**: Fondo oscuro, letras blancas, links rojos.\n",
    "* **moon**: Fondo azul oscuro, letras grises, links azules.\n",
    "* **solarized**: Fondo blanco crema, letras verde oscuro, links azules."
   ]
  },
  {
   "cell_type": "markdown",
   "metadata": {
    "slideshow": {
     "slide_type": "slide"
    }
   },
   "source": [
    "Se pueden comparar los temas en la siguente imagen:\n",
    "\n",
    "![Themes](2021-08-02-tutorial-rise-parte-2/themes.jpeg)\n",
    "\n",
    "La imagen fue compilada por el siguiente [blog](https://dev.to/emmabostian/how-to-build-a-captivating-presentation-using-html-css--javascript-nno)."
   ]
  },
  {
   "cell_type": "markdown",
   "metadata": {
    "slideshow": {
     "slide_type": "slide"
    }
   },
   "source": [
    "### Eligiendo una transición\n",
    "El tipo de transición entre slides se define de manera similar. En la metadata del notebook se agrega la opción de \"transition\" con el nombre de la transición deseada:\n",
    "\n",
    "```json\n",
    " \"rise\": {\"transition\": \"zoom\"}\n",
    "```\n",
    "\n",
    "Las opciones, heredadas de las [transiciones](https://revealjs.com/transitions/) existentes en la librería revealjs, son:\n",
    "\n",
    "* **none**: Sin animación.\n",
    "* **fade**:\tAnimar con Cross fade — default for background transitions\n",
    "* **slide**: \tSlide between backgrounds — default for slide transitions\n",
    "* **convex**: Animar con ángulo convexo.\n",
    "* **concave**: Animar con ángulo convexo.\n",
    "* **zoom**: Animar para que la diapositiva siguiente crezca desde el centro de la pantalla.\n",
    "\n",
    "El siguiente gif muestra cada transición:\n",
    "\n",
    "![Transitions](2021-08-02-tutorial-rise-parte-2/transitions.gif)"
   ]
  },
  {
   "cell_type": "markdown",
   "metadata": {
    "slideshow": {
     "slide_type": "slide"
    }
   },
   "source": [
    "### Definiendo una imagen de fondos\n",
    "\n",
    "Simplemente, usar:\n",
    "\n",
    "```json\n",
    "\"rise\": {\n",
    "     \"backimage\": \"mybackimage.png\",\n",
    " }\n",
    "}\n",
    "```\n",
    "\n",
    "Esta opción es útil si quieres un fondo personalizado, como a veces se exige en algunos congresos. Como es habitual al manejar imágenes, conviene usar archivos png con fondo transparente para que se integre bien con el theme elegido.\n",
    "\n",
    "![](2021-08-02-tutorial-rise-parte-2/background.gif)\n"
   ]
  },
  {
   "cell_type": "markdown",
   "metadata": {
    "slideshow": {
     "slide_type": "slide"
    }
   },
   "source": [
    "### Definiendo header y footer:\n",
    "Simplemente, usar:\n",
    "\n",
    "```json\n",
    "\"rise\": {\n",
    "     \"header\": \"<h1>Hola</h1>\",\n",
    "     \"footer\": \"<h3>Mundo</h3>\"\n",
    " }\n",
    "}\n",
    "```\n",
    "\n",
    "Puedes usar `<br>` y `&nbsp;` para introducir saltos de línea y espacios en blanco, respectivamente.\n",
    "\n",
    "![](2021-08-02-tutorial-rise-parte-2/header_footer.gif)\n",
    "\n"
   ]
  },
  {
   "cell_type": "markdown",
   "metadata": {},
   "source": [
    "## ¿Cómo activo la pizarra?\n",
    "\n",
    "Es posible activar una pizarra (chalkboard) para realizar anotaciones durante la presentación.\n",
    "\n",
    "Para eso, en Edit/Edit Notebook Metadata, es necesario agregar el siguiente texto a la metadata del jupyter notebook:\n",
    "\n",
    "```json\n",
    "{\n",
    " ...\n",
    " \"rise\": {\"enable_chalkboard\": true}\n",
    "}\n",
    "```"
   ]
  },
  {
   "cell_type": "markdown",
   "metadata": {},
   "source": [
    "Durante la presentación se puede utilizar la pizarra haciendo click en los íconos, que permiten dibujar en una pizarra o sobre las diapositivas.\n",
    "\n",
    "Es posible cambiar de color de lapiz presionando `s` y `q`. Se puede borrar la pizarra con `-`.\n",
    "\n",
    "![](2021-08-02-tutorial-rise-parte-2/chalkboard.gif)\n",
    "\n",
    "Las anotaciones se preservan incluso al cerrar el modo presentación. Sin embargo, no se guardan al cerrar el notebook."
   ]
  },
  {
   "cell_type": "markdown",
   "metadata": {
    "slideshow": {
     "slide_type": "slide"
    }
   },
   "source": [
    "## Importante consejo final\n",
    "\n",
    "Tantas opciones pueden ser sobrecogedoras y difíciles de recordar. Como no se puede tener comentarios en un json, resulta práctico tener guardadas todas las opciones y simplemente agregar un `_` antes de las opciones que no se desean usar.\n",
    "\n",
    "En mi caso, tengo el siguiente json en todos mis notebooks con lo cual no tengo que memorizar nada, y sólo adapto según necesito. \n",
    "\n",
    "```json\n",
    "\"rise\": {\n",
    "        \"autolaunch\": true,\n",
    "        \"enable_chalkboard\": true\n",
    "        \"theme\": \"black\",\n",
    "        \"transition\": \"zoom\",\n",
    "        \"_header\": \"<h1>PRESENTATION NAME // EVENTs</h1>\",\n",
    "        \"_footer\": \"<h3>NAME, DATE</h3>\",\n",
    "        \"_backimage\": \"path/to/mybackimage.png\",\n",
    "        \"_theme_options\": [ \"black\", \"white\", \"league\", \"beige\", \n",
    "                           \"sky\", \"night\", \"serif\"], \n",
    "        \"_transition_options\": [\"none\", \"fade\", \"slide\", \"convex\", \"concave\", \"zoom\"],\n",
    "        }\n",
    "```\n",
    "\n",
    "\n",
    "![](2021-08-02-tutorial-rise-parte-2/options.gif)"
   ]
  }
 ],
 "metadata": {
  "celltoolbar": "Slideshow",
  "kernelspec": {
   "display_name": "Python 3",
   "language": "python",
   "name": "python3"
  },
  "language_info": {
   "codemirror_mode": {
    "name": "ipython",
    "version": 3
   },
   "file_extension": ".py",
   "mimetype": "text/x-python",
   "name": "python",
   "nbconvert_exporter": "python",
   "pygments_lexer": "ipython3",
   "version": "3.7.4"
  },
  "nbTranslate": {
   "displayLangs": [
    "*"
   ],
   "hotkey": "alt-t",
   "langInMainMenu": true,
   "sourceLang": "en",
   "targetLang": "fr",
   "useGoogleTranslate": true
  },
  "rise": {
   "_footer": "<h2>&nbsp;&nbsp;&nbsp;Sebastián Flores, Octubre 2021</h2><br><br>",
   "_header": "<br><h2>&nbsp;&nbsp;&nbsp;¿Presentaciones interactivas<br>&nbsp;&nbsp;&nbsp;en jupyter notebook?</h2>",
   "_theme_options": [
    "black",
    "white",
    "league",
    "beige",
    "sky",
    "night",
    "serif"
   ],
   "_transition_options": [
    "none",
    "fade",
    "slide",
    "convex",
    "concave",
    "zoom"
   ],
   "autolauch": false,
   "backimage": "2021-08-02-tutorial-rise-parte-2/pycon-latam-background.png",
   "enable_chalkboard": false,
   "theme": "black",
   "transition": "slide"
  },
  "varInspector": {
   "cols": {
    "lenName": 16,
    "lenType": 16,
    "lenVar": 40
   },
   "kernels_config": {
    "python": {
     "delete_cmd_postfix": "",
     "delete_cmd_prefix": "del ",
     "library": "var_list.py",
     "varRefreshCmd": "print(var_dic_list())"
    },
    "r": {
     "delete_cmd_postfix": ") ",
     "delete_cmd_prefix": "rm(",
     "library": "var_list.r",
     "varRefreshCmd": "cat(var_dic_list()) "
    }
   },
   "types_to_exclude": [
    "module",
    "function",
    "builtin_function_or_method",
    "instance",
    "_Feature"
   ],
   "window_display": false
  }
 },
 "nbformat": 4,
 "nbformat_minor": 4
}
