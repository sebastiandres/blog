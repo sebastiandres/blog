{
 "cells": [
  {
   "cell_type": "markdown",
   "metadata": {
    "slideshow": {
     "slide_type": "skip"
    }
   },
   "source": [
    "# Usando columnas en RISE\n",
    "> ¿Cómo poner se pueden usar columnas en RISE?\n",
    "\n",
    "- featured: false\n",
    "- hide: false\n",
    "- toc: false \n",
    "- badges: true\n",
    "- comments: true\n",
    "- categories: [jupyter, rise]\n",
    "- image: images/preview/rise-2-columns.png\n",
    "- permalink: /rise-2-columns/"
   ]
  },
  {
   "cell_type": "markdown",
   "metadata": {
    "slideshow": {
     "slide_type": "slide"
    }
   },
   "source": [
    "Una de las limitaciones de jupyter notebook para crear diapositivas, es que es posible crear de columnas. Por defecto, el texto ocupa toda la pantalla, como se muestra en la próxima celda."
   ]
  },
  {
   "cell_type": "markdown",
   "metadata": {
    "slideshow": {
     "slide_type": "slide"
    }
   },
   "source": [
    "![](2020-03-19-rise-columns/columns1.png)"
   ]
  },
  {
   "cell_type": "markdown",
   "metadata": {
    "slideshow": {
     "slide_type": "skip"
    }
   },
   "source": [
    "## Titulo 1 \n",
    "\n",
    "### Subtítulo 1\n",
    "\n",
    "Lorem ipsum dolor sit amet, consectetur adipiscing elit, sed do eiusmod tempor incididunt ut labore et dolore magna aliqua. Ut enim ad minim veniam, quis nostrud exercitation ullamco laboris nisi ut aliquip ex ea commodo consequat. Duis aute irure dolor in reprehenderit in voluptate velit esse cillum dolore eu fugiat nulla pariatur. Excepteur sint occaecat cupidatat non proident, sunt in culpa qui officia deserunt mollit anim id est laborum.\n",
    "\n",
    "Curabitur pretium tincidunt lacus. Nulla gravida orci a odio. Nullam varius, turpis et commodo pharetra, est eros bibendum elit, nec luctus magna felis sollicitudin mauris. Integer in mauris eu nibh euismod gravida. Duis ac tellus et risus vulputate vehicula. Donec lobortis risus a elit. Etiam tempor. Ut ullamcorper, ligula eu tempor congue, eros est euismod turpis, id tincidunt sapien risus a quam.\n",
    "\n",
    "![Lore Ipsum image](2020-03-19-rise-columns/lore_ipsum.png)"
   ]
  },
  {
   "cell_type": "markdown",
   "metadata": {
    "slideshow": {
     "slide_type": "slide"
    }
   },
   "source": [
    "Lo anterior no es ideal porque sería natural mostrarr el texto y la imagen con columnas."
   ]
  },
  {
   "cell_type": "markdown",
   "metadata": {
    "slideshow": {
     "slide_type": "slide"
    }
   },
   "source": [
    "Sin embargo, podemos usar todas las herramientas de html. \n",
    "\n",
    "Existen distintas opciones: `float: left` o `display: inline-block`.\n",
    "\n",
    "Veamos las diferencias."
   ]
  },
  {
   "cell_type": "markdown",
   "metadata": {
    "slideshow": {
     "slide_type": "slide"
    }
   },
   "source": [
    "Ejemplo de `float: left`:\n",
    "\n",
    "```html\n",
    "Texto anterior.\n",
    "<div style=\"clear: both;\">\n",
    "    <div style=\"float: left; width: 50%; background-color:#FF0000;\">UNO</div>\n",
    "    <div style=\"float: left; width: 10%; background-color:#FFFF00;\">DOS</div>\n",
    "    <div style=\"float: left; width: 30%; background-color:#00FF00;\">TRES</div>\n",
    "</div>\n",
    "Texto posterior.\n",
    "```\n",
    "Se muestra como:"
   ]
  },
  {
   "cell_type": "markdown",
   "metadata": {
    "slideshow": {
     "slide_type": "slide"
    }
   },
   "source": [
    "![](2020-03-19-rise-columns/columns2.png)"
   ]
  },
  {
   "cell_type": "markdown",
   "metadata": {
    "slideshow": {
     "slide_type": "skip"
    }
   },
   "source": [
    "Texto anterior.\n",
    "<div style=\"clear: both;\">\n",
    "    <div style=\"float: left; width: 50%; background-color:#FF0000;\">UNO</div>\n",
    "    <div style=\"float: left; width: 10%; background-color:#FFFF00;\">DOS</div>\n",
    "    <div style=\"float: left; width: 30%; background-color:#00FF00;\">TRES</div>\n",
    "</div>\n",
    "Texto posterior."
   ]
  },
  {
   "cell_type": "markdown",
   "metadata": {
    "slideshow": {
     "slide_type": "slide"
    }
   },
   "source": [
    "Notar que:\n",
    "* Podemos poner tantas columnas como necesitemos, siempre que sumen menos de 100%. Utilizo una columna interior para separar texto de imagen.\n",
    "* El texto \"se pega\" al div, lo cual se ve bastante feo.\n",
    "* La opción de `background-color` es opcional, acá se usa sólo para mostrar donde termina cada columna."
   ]
  },
  {
   "cell_type": "markdown",
   "metadata": {
    "slideshow": {
     "slide_type": "slide"
    }
   },
   "source": [
    "Ejemplo de `display: inline-block`:\n",
    "\n",
    "```html\n",
    "Texto anterior.\n",
    "<div style=\"clear: both;\">\n",
    "    <div style=\"display: inline-block; width: 50%; background-color:#FF0000;\">UNO</div>\n",
    "    <div style=\"display: inline-block; width: 10%; background-color:#FFFF00;\">DOS</div>\n",
    "    <div style=\"display: inline-block; width: 30%; background-color:#00FF00;\">TRES</div>\n",
    "</div>\n",
    "Texto posterior.\n",
    "```\n",
    "Se muestra como:"
   ]
  },
  {
   "cell_type": "markdown",
   "metadata": {
    "slideshow": {
     "slide_type": "slide"
    }
   },
   "source": [
    "![](2020-03-19-rise-columns/columns3.png)"
   ]
  },
  {
   "cell_type": "markdown",
   "metadata": {
    "slideshow": {
     "slide_type": "skip"
    }
   },
   "source": [
    "Texto anterior.\n",
    "<div style=\"clear: both;\">\n",
    "    <div style=\"display: inline-block; width: 50%; background-color:#FF0000;\">UNO</div>\n",
    "    <div style=\"display: inline-block; width: 10%; background-color:#FFFF00;\">DOS</div>\n",
    "    <div style=\"display: inline-block; width: 30%; background-color:#00FF00;\">TRES</div>\n",
    "</div>\n",
    "Texto posterior."
   ]
  },
  {
   "cell_type": "markdown",
   "metadata": {
    "slideshow": {
     "slide_type": "slide"
    }
   },
   "source": [
    "Notar que el texto \"no se pega\" al div como antes."
   ]
  },
  {
   "cell_type": "markdown",
   "metadata": {
    "slideshow": {
     "slide_type": "slide"
    }
   },
   "source": [
    "En base a lo anterior, conviene preferir `display: inline-block`."
   ]
  },
  {
   "cell_type": "markdown",
   "metadata": {
    "slideshow": {
     "slide_type": "slide"
    }
   },
   "source": [
    "¿Como funciona para texto e imágenes?\n",
    "\n",
    "```html\n",
    "Texto anterior.\n",
    "<div>\n",
    "    <div style=\"display: inline-block;  width: 50%; background-color:#FF0000;\">UNO</div>\n",
    "    <div style=\"display: inline-block; width: 10%; background-color:#FFFF00;\">DOS</div>\n",
    "    <div style=\"display: inline-block; width: 30%; background-color:#00FF00;\">\n",
    "    <img src=\"2020-03-19-rise-columns/lore_ipsum.png\" alt=\"LoreIpsum\">\n",
    "    </div>\n",
    "</div>\n",
    "Texto posterior.\n",
    "```"
   ]
  },
  {
   "cell_type": "markdown",
   "metadata": {
    "slideshow": {
     "slide_type": "slide"
    }
   },
   "source": [
    "![](2020-03-19-rise-columns/columns4.png)"
   ]
  },
  {
   "cell_type": "markdown",
   "metadata": {
    "slideshow": {
     "slide_type": "skip"
    }
   },
   "source": [
    "Texto anterior.\n",
    "<div>\n",
    "    <div style=\"display: inline-block;  width: 50%; background-color:#FF0000;\">UNO</div>\n",
    "    <div style=\"display: inline-block; width: 10%; background-color:#FFFF00;\">DOS</div>\n",
    "    <div style=\"display: inline-block; width: 30%; background-color:#00FF00;\">\n",
    "    <img src=\"2020-03-19-rise-columns/lore_ipsum.png\" alt=\"LoreIpsum\">\n",
    "    </div>\n",
    "</div>\n",
    "Texto posterior."
   ]
  },
  {
   "cell_type": "markdown",
   "metadata": {
    "slideshow": {
     "slide_type": "slide"
    }
   },
   "source": [
    "Ahora el texto quedó alineado abajo. Esto es porque por defecto, la imagen se alinea a texto. Esto se puede combatir con la opción adicional de `vertical-align: text-top;` en la imagen, como se ve a continuación."
   ]
  },
  {
   "cell_type": "markdown",
   "metadata": {
    "slideshow": {
     "slide_type": "slide"
    }
   },
   "source": [
    "\n",
    "```html\n",
    "Texto anterior.\n",
    "<div>\n",
    "    <div style=\"display: inline-block;  width: 50%; background-color:#FF0000;\">UNO</div>\n",
    "    <div style=\"display: inline-block; width: 10%; background-color:#FFFF00;\">DOS</div>\n",
    "    <div style=\"display: inline-block; vertical-align: text-top; width: 30%; background-color:#00FF00;\">\n",
    "    <img src=\"2020-03-19-rise-columns/lore_ipsum.png\" alt=\"LoreIpsum\">\n",
    "    </div>\n",
    "</div>\n",
    "Texto posterior.\n",
    "```"
   ]
  },
  {
   "cell_type": "markdown",
   "metadata": {
    "slideshow": {
     "slide_type": "slide"
    }
   },
   "source": [
    "![](2020-03-19-rise-columns/columns5.png)"
   ]
  },
  {
   "cell_type": "markdown",
   "metadata": {
    "slideshow": {
     "slide_type": "skip"
    }
   },
   "source": [
    "Texto anterior.\n",
    "<div>\n",
    "    <div style=\"display: inline-block;  width: 50%; background-color:#FF0000;\">UNO</div>\n",
    "    <div style=\"display: inline-block; width: 10%; background-color:#FFFF00;\">DOS</div>\n",
    "    <div style=\"display: inline-block; vertical-align: text-top; width: 30%; background-color:#00FF00;\">\n",
    "    <img src=\"2020-03-19-rise-columns/lore_ipsum.png\" alt=\"LoreIpsum\">\n",
    "    </div>\n",
    "</div>\n",
    "Texto posterior."
   ]
  },
  {
   "cell_type": "markdown",
   "metadata": {
    "slideshow": {
     "slide_type": "slide"
    }
   },
   "source": [
    "También podemos alinear un video:\n",
    "\n",
    "```html\n",
    "Texto anterior.\n",
    "<div>\n",
    "    <div style=\"display: inline-block;  width: 50%; background-color:#FF0000;\">UNO</div>\n",
    "    <div style=\"display: inline-block; width: 10%; background-color:#FFFF00;\">DOS</div>\n",
    "    <div style=\"display: inline-block; vertical-align: text-top; width: 30%; background-color:#00FF00;\">\n",
    "    <video src=\"https://github.com/sebastiandres/blog/blob/master/videos/mov_bbb.mp4?raw=true\" controls></video>\n",
    "    </div>\n",
    "</div>\n",
    "Texto posterior.\n",
    "```"
   ]
  },
  {
   "cell_type": "markdown",
   "metadata": {
    "slideshow": {
     "slide_type": "slide"
    }
   },
   "source": [
    "![](2020-03-19-rise-columns/columns6.png)"
   ]
  },
  {
   "cell_type": "markdown",
   "metadata": {
    "slideshow": {
     "slide_type": "skip"
    }
   },
   "source": [
    "Texto anterior.\n",
    "<div>\n",
    "    <div style=\"display: inline-block;  width: 50%; background-color:#FF0000;\">UNO</div>\n",
    "    <div style=\"display: inline-block; width: 10%; background-color:#FFFF00;\">DOS</div>\n",
    "    <div style=\"display: inline-block; vertical-align: text-top; width: 30%; background-color:#00FF00;\">\n",
    "    <video src=\"https://github.com/sebastiandres/blog/blob/master/videos/mov_bbb.mp4?raw=true\" controls></video>\n",
    "    </div>\n",
    "</div>\n",
    "Texto posterior."
   ]
  },
  {
   "cell_type": "markdown",
   "metadata": {
    "slideshow": {
     "slide_type": "slide"
    }
   },
   "source": [
    "Podemos juntar todo lo anterior en un contenedor estándar de texto e imagen, donde sólo será necesario actualizar las rutas y los porcentajes de las columnas:\n",
    "\n",
    "```html\n",
    "<div>\n",
    "    <div style=\"display: inline-block;  width: 40%;\">Lorem Ipsum Text</div>\n",
    "    <div style=\"display: inline-block; width: 10%;\"></div>\n",
    "    <div style=\"display: inline-block; vertical-align: text-top; width: 50%;\">\n",
    "    <img src=\"2020-03-19-rise-columns/lore_ipsum.png\" alt=\"LoreIpsum\">\n",
    "    </div>\n",
    "</div>\n",
    "```\n",
    "\n",
    "y de texto y video, para reutilizarlo a futuro.\n",
    "\n",
    "```html\n",
    "<div>\n",
    "    <div style=\"display: inline-block;  width: 40%;\">Lorem Ipsum Text</div>\n",
    "    <div style=\"display: inline-block; width: 10%;\"></div>\n",
    "    <div style=\"display: inline-block; vertical-align: text-top; width: 50%;\">\n",
    "    <video src=\"https://github.com/sebastiandres/blog/blob/master/videos/mov_bbb.mp4?raw=true\" controls></video>\n",
    "    </div>\n",
    "</div>\n",
    "```"
   ]
  },
  {
   "cell_type": "markdown",
   "metadata": {
    "slideshow": {
     "slide_type": "slide"
    }
   },
   "source": [
    "Finalmente, entonces podemos obtener el texto e imagen tal como lo queríamos:"
   ]
  },
  {
   "cell_type": "markdown",
   "metadata": {
    "slideshow": {
     "slide_type": "slide"
    }
   },
   "source": [
    "![](2020-03-19-rise-columns/columns7.png)"
   ]
  },
  {
   "cell_type": "markdown",
   "metadata": {
    "slideshow": {
     "slide_type": "skip"
    }
   },
   "source": [
    "<div>\n",
    "    <div style=\"display: inline-block;  width: 50%;\">\n",
    "Lorem ipsum dolor sit amet, consectetur adipiscing elit, sed do eiusmod tempor incididunt ut labore et dolore magna aliqua. Ut enim ad minim veniam, quis nostrud exercitation ullamco laboris nisi ut aliquip ex ea commodo consequat. Duis aute irure dolor in reprehenderit in voluptate velit esse cillum dolore eu fugiat nulla pariatur. Excepteur sint occaecat cupidatat non proident, sunt in culpa qui officia deserunt mollit anim id est laborum.\n",
    "\n",
    "Curabitur pretium tincidunt lacus. Nulla gravida orci a odio. Nullam varius, turpis et commodo pharetra, est eros bibendum elit, nec luctus magna felis sollicitudin mauris. Integer in mauris eu nibh euismod gravida. Duis ac tellus et risus vulputate vehicula. Donec lobortis risus a elit. Etiam tempor. Ut ullamcorper, ligula eu tempor congue, eros est euismod turpis, id tincidunt sapien risus a quam.\n",
    "    </div>\n",
    "    <div style=\"display: inline-block; width: 5%;\"></div>\n",
    "    <div style=\"display: inline-block; vertical-align: text-bottom; width: 40%;\">\n",
    "    <img src=\"2020-03-19-rise-columns/lore_ipsum.png\" alt=\"LoreIpsum\">\n",
    "    </div>\n",
    "</div>\n"
   ]
  },
  {
   "cell_type": "markdown",
   "metadata": {
    "slideshow": {
     "slide_type": "slide"
    }
   },
   "source": [
    "**Observación**: \n",
    "\n",
    "\n",
    "### ¿Qué más me gustaría? \n",
    "* Código: A pesar que puedo poner código en las columnas (código \"muerto\" pues se puede escribir codigo en el markdown), me gustaría más que la columna fueran una celda de python ejecutable."
   ]
  },
  {
   "cell_type": "markdown",
   "metadata": {
    "slideshow": {
     "slide_type": "slide"
    }
   },
   "source": [
    "## Update:\n",
    "Existe una extensión que permite tener 2 celdas de jupyter notebook lado a lado: split cells.\n"
   ]
  }
 ],
 "metadata": {
  "celltoolbar": "Slideshow",
  "kernelspec": {
   "display_name": "Python 3",
   "language": "python",
   "name": "python3"
  },
  "language_info": {
   "codemirror_mode": {
    "name": "ipython",
    "version": 3
   },
   "file_extension": ".py",
   "mimetype": "text/x-python",
   "name": "python",
   "nbconvert_exporter": "python",
   "pygments_lexer": "ipython3",
   "version": "3.7.4"
  },
  "rise": {
   "theme": "white"
  },
  "varInspector": {
   "cols": {
    "lenName": 16,
    "lenType": 16,
    "lenVar": 40
   },
   "kernels_config": {
    "python": {
     "delete_cmd_postfix": "",
     "delete_cmd_prefix": "del ",
     "library": "var_list.py",
     "varRefreshCmd": "print(var_dic_list())"
    },
    "r": {
     "delete_cmd_postfix": ") ",
     "delete_cmd_prefix": "rm(",
     "library": "var_list.r",
     "varRefreshCmd": "cat(var_dic_list()) "
    }
   },
   "types_to_exclude": [
    "module",
    "function",
    "builtin_function_or_method",
    "instance",
    "_Feature"
   ],
   "window_display": false
  }
 },
 "nbformat": 4,
 "nbformat_minor": 4
}
