{
 "cells": [
  {
   "cell_type": "markdown",
   "metadata": {
    "slideshow": {
     "slide_type": "skip"
    }
   },
   "source": [
    "# Videos en Jupyter Notebook\n",
    "> ¿Cómo poner se pueden incrustar videos en jupyter notebook?\n",
    "\n",
    "- featured: false\n",
    "- hide: false\n",
    "- toc: false \n",
    "- badges: true\n",
    "- comments: true\n",
    "- categories: [jupyter, rise]\n",
    "- image: images/preview/jupyter.png"
   ]
  },
  {
   "cell_type": "markdown",
   "metadata": {},
   "source": [
    "## ¿Cómo se ponen videos en un notebook?\n",
    "Para nuestros ejemplos usaremos 2 videos:\n",
    "* Video en local: 2020-03-19-rise-columns/mov_bbb.mp4 \n",
    "* Video de internet: https://archive.org/download/Sita_Sings_the_Blues/Sita_Sings_the_Blues_small.mp4\n",
    "\n",
    "El código html para incrustar un video es:\n",
    "\n",
    "```html\n",
    "<video controls src=\"path_to/video_name.mp4\"></video>\n",
    "```\n",
    "\n",
    "Como siempre, podemos usar el html en la celda:"
   ]
  },
  {
   "cell_type": "code",
   "execution_count": 12,
   "metadata": {},
   "outputs": [
    {
     "data": {
      "text/html": [
       "\n",
       "<video width=\"400\" controls>\n",
       "  <source src=\"2020-03-19-rise-columns/mov_bbb.mp4\" type=\"video/mp4\">\n",
       "</video>"
      ],
      "text/plain": [
       "<IPython.core.display.HTML object>"
      ]
     },
     "execution_count": 12,
     "metadata": {},
     "output_type": "execute_result"
    }
   ],
   "source": [
    "# Ruta a archivo local\n",
    "from IPython.display import HTML\n",
    "\n",
    "HTML(\"\"\"\n",
    "<video width=\"400\" controls>\n",
    "  <source src=\"2020-03-19-rise-columns/mov_bbb.mp4\" type=\"video/mp4\">\n",
    "</video>\"\"\")"
   ]
  },
  {
   "cell_type": "code",
   "execution_count": 1,
   "metadata": {},
   "outputs": [
    {
     "data": {
      "text/html": [
       "\n",
       "<video width=\"400\" controls>\n",
       "  <source src=\"https://archive.org/download/Sita_Sings_the_Blues/Sita_Sings_the_Blues_small.mp4\" type=\"video/mp4\">\n",
       "</video>"
      ],
      "text/plain": [
       "<IPython.core.display.HTML object>"
      ]
     },
     "execution_count": 1,
     "metadata": {},
     "output_type": "execute_result"
    }
   ],
   "source": [
    "# Ruta a archivo en línea\n",
    "from IPython.display import HTML\n",
    "\n",
    "HTML(\"\"\"\n",
    "<video width=\"400\" controls>\n",
    "  <source src=\"https://archive.org/download/Sita_Sings_the_Blues/Sita_Sings_the_Blues_small.mp4\" type=\"video/mp4\">\n",
    "</video>\"\"\")"
   ]
  },
  {
   "cell_type": "markdown",
   "metadata": {},
   "source": [
    "Pero también podemos ponerlo directamente en la celda:\n",
    "\n",
    "Por ejemplo\n",
    "\n",
    "<video controls src=\"2020-03-19-rise-columns/mov_bbb.mp4\"></video>\n",
    "\n",
    "y \n",
    "\n",
    "<video controls src=\"https://archive.org/download/Sita_Sings_the_Blues/Sita_Sings_the_Blues_small.mp4\"></video>"
   ]
  },
  {
   "cell_type": "markdown",
   "metadata": {
    "slideshow": {
     "slide_type": "slide"
    }
   },
   "source": [
    "**Observación**: \n",
    "\n",
    "\n",
    "### ¿Qué más me gustaría? \n",
    "* Código: A pesar que puedo poner código en las columnas (código \"muerto\" pues se puede escribir codigo en el markdown), me gustaría más que la columna fueran una celda de python ejecutable.\n",
    "\n",
    "* Videos: Podría ser útil tener el video en una columna, aunque en general mostrar el video usando el código de python y luego maximizando el video."
   ]
  },
  {
   "cell_type": "markdown",
   "metadata": {
    "slideshow": {
     "slide_type": "slide"
    }
   },
   "source": [
    "## Update:\n",
    "Existe una extensión que permite tener 2 celdas de jupyter notebook lado a lado: split cells.\n"
   ]
  }
 ],
 "metadata": {
  "kernelspec": {
   "display_name": "Python 3",
   "language": "python",
   "name": "python3"
  },
  "language_info": {
   "codemirror_mode": {
    "name": "ipython",
    "version": 3
   },
   "file_extension": ".py",
   "mimetype": "text/x-python",
   "name": "python",
   "nbconvert_exporter": "python",
   "pygments_lexer": "ipython3",
   "version": "3.7.4"
  },
  "varInspector": {
   "cols": {
    "lenName": 16,
    "lenType": 16,
    "lenVar": 40
   },
   "kernels_config": {
    "python": {
     "delete_cmd_postfix": "",
     "delete_cmd_prefix": "del ",
     "library": "var_list.py",
     "varRefreshCmd": "print(var_dic_list())"
    },
    "r": {
     "delete_cmd_postfix": ") ",
     "delete_cmd_prefix": "rm(",
     "library": "var_list.r",
     "varRefreshCmd": "cat(var_dic_list()) "
    }
   },
   "types_to_exclude": [
    "module",
    "function",
    "builtin_function_or_method",
    "instance",
    "_Feature"
   ],
   "window_display": false
  }
 },
 "nbformat": 4,
 "nbformat_minor": 4
}
