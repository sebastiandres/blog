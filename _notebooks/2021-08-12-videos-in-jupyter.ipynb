{
 "cells": [
  {
   "cell_type": "markdown",
   "metadata": {
    "slideshow": {
     "slide_type": "skip"
    }
   },
   "source": [
    "# Videos en Jupyter Notebook\n",
    "> ¿Cómo incrustar videos en markdown o jupyter notebook?\n",
    "\n",
    "- featured: false\n",
    "- hide: false\n",
    "- toc: false \n",
    "- badges: true\n",
    "- comments: true\n",
    "- categories: [jupyter, rise]\n",
    "- image: images/preview/jupyter.png"
   ]
  },
  {
   "cell_type": "markdown",
   "metadata": {},
   "source": [
    "Poner un video en markdown o jupyter notebook es sencillo, pero hay varias opciones y no todas funcionan. \n",
    "¡La opción que pongo acá funciona en todos los casos!\n",
    "\n",
    "## ¿Cómo se ponen videos en un notebook?\n",
    "\n",
    "Es posible usar un video en local (de tu disco duro) o en línea. Sin embargo, resulta aconsejable subir el video en línea y enlazar ese video. ¿Por qué? Porque así la ruta no cambia al ejecutarlo como notebook en local y al convertirlo mediante fastpages en página web.\n",
    "\n",
    "Usaremos el video que usan de ejemplo en [w3school](https://www.w3schools.com/html/html5_video.asp): mov_bbb.mp4\n",
    "\n",
    "Agregando el repositorio en github, obtenemos la ruta del archivo (notar que tiene que estar en version raw):\n",
    "\n",
    "[https://github.com/sebastiandres/blog/blob/master/videos/mov_bbb.mp4?raw=true](https://github.com/sebastiandres/blog/blob/master/videos/mov_bbb.mp4?raw=true)\n",
    "\n",
    "El código html para incrustar un video en html o markdown es:\n",
    "\n",
    "```html\n",
    "<video controls src=\"path_to/video_name.mp4\" width=\"800\"></video>\n",
    "```"
   ]
  },
  {
   "cell_type": "markdown",
   "metadata": {},
   "source": [
    "Podemos usar el html en una celda de markdown:\n",
    "\n",
    "<video controls src=\"https://github.com/sebastiandres/blog/blob/master/videos/mov_bbb.mp4?raw=true\" width=\"800\"></video>"
   ]
  },
  {
   "cell_type": "markdown",
   "metadata": {},
   "source": [
    "También es posible usar código en python para incrustar el video como resultado de la ejecución de una celda:"
   ]
  },
  {
   "cell_type": "code",
   "execution_count": 7,
   "metadata": {
    "scrolled": true
   },
   "outputs": [
    {
     "data": {
      "text/html": [
       "\n",
       "<video controls src=\"https://github.com/sebastiandres/blog/blob/master/videos/mov_bbb.mp4?raw=true\" width=\"800\">\n",
       "</video>"
      ],
      "text/plain": [
       "<IPython.core.display.HTML object>"
      ]
     },
     "execution_count": 7,
     "metadata": {},
     "output_type": "execute_result"
    }
   ],
   "source": [
    "# Ruta a archivo en línea\n",
    "from IPython.display import HTML\n",
    "\n",
    "HTML(\"\"\"\n",
    "<video controls src=\"https://github.com/sebastiandres/blog/blob/master/videos/mov_bbb.mp4?raw=true\" width=\"800\">\n",
    "</video>\"\"\")"
   ]
  },
  {
   "cell_type": "markdown",
   "metadata": {},
   "source": [
    "Todas las opciones del tag `<video>` están en la \n",
    "[documentación](https://developer.mozilla.org/es/docs/Web/HTML/Element/video)."
   ]
  }
 ],
 "metadata": {
  "kernelspec": {
   "display_name": "Python 3",
   "language": "python",
   "name": "python3"
  },
  "language_info": {
   "codemirror_mode": {
    "name": "ipython",
    "version": 3
   },
   "file_extension": ".py",
   "mimetype": "text/x-python",
   "name": "python",
   "nbconvert_exporter": "python",
   "pygments_lexer": "ipython3",
   "version": "3.7.4"
  },
  "varInspector": {
   "cols": {
    "lenName": 16,
    "lenType": 16,
    "lenVar": 40
   },
   "kernels_config": {
    "python": {
     "delete_cmd_postfix": "",
     "delete_cmd_prefix": "del ",
     "library": "var_list.py",
     "varRefreshCmd": "print(var_dic_list())"
    },
    "r": {
     "delete_cmd_postfix": ") ",
     "delete_cmd_prefix": "rm(",
     "library": "var_list.r",
     "varRefreshCmd": "cat(var_dic_list()) "
    }
   },
   "types_to_exclude": [
    "module",
    "function",
    "builtin_function_or_method",
    "instance",
    "_Feature"
   ],
   "window_display": false
  }
 },
 "nbformat": 4,
 "nbformat_minor": 4
}
