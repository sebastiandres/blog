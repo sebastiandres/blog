{
 "cells": [
  {
   "cell_type": "markdown",
   "metadata": {
    "slideshow": {
     "slide_type": "slide"
    }
   },
   "source": [
    "# Tutorial de RISE - parte 1\n",
    "> Aspectos básicos para hacer presentaciones interactivas con jupyter notebooks\n",
    "\n",
    "- featured: false\n",
    "- hide: false\n",
    "- toc: true\n",
    "- badges: true\n",
    "- comments: true\n",
    "- categories: [jupyter, rise]\n",
    "- image: images/preview/rise.gif\n",
    "- permalink: /tutorial-rise-1/"
   ]
  },
  {
   "cell_type": "markdown",
   "metadata": {
    "slideshow": {
     "slide_type": "slide"
    }
   },
   "source": [
    "Esta es la parte 1 de 3 del [tutorial de presentaciones interactivas en jupyter notebook](https://sebastiandres.github.io/blog/tutorial-rise/)."
   ]
  },
  {
   "cell_type": "markdown",
   "metadata": {
    "slideshow": {
     "slide_type": "slide"
    }
   },
   "source": [
    "## ¿Qué es RISE?\n",
    "\n",
    "RISE es una extensión a jupyter notebook que, en lugar de desplegar las celdas en una larga página web, las despliega en una presentación usando la librería de javascript [reveal.js](https://revealjs.com/). \n",
    "\n",
    "Sigue siendo una página web (al igual que el notebook), pero las celdas se agrupan en diapositivas."
   ]
  },
  {
   "cell_type": "markdown",
   "metadata": {
    "slideshow": {
     "slide_type": "slide"
    }
   },
   "source": [
    "## ¿Qué contenido puedo poner?\n",
    "\n",
    "Puedes mezclar contenido usando las celdas de markdown y código, según necesites: \n",
    "* **Markdown**: texto, latex, imágenes, tablas, etc.\n",
    "* **Código**: código, gráficos simples o interactivos, videos, sonido, iframes, javascript, entre otros.\n",
    "\n",
    "Como regla general, si se muestra correctamente en el notebook, se verá bien en la diapositiva. ¡Sé creativo!"
   ]
  },
  {
   "cell_type": "markdown",
   "metadata": {
    "slideshow": {
     "slide_type": "slide"
    }
   },
   "source": [
    "## ¿Cómo instalar?\n",
    "\n",
    "La instalación de la extensión RISE es extremadamente fácil.\n",
    "Basta con usar pip o conda:\n",
    "\n",
    "```\n",
    "pip install rise\n",
    "```\n",
    "\n",
    "o\n",
    "\n",
    "```\n",
    "conda install -c conda-forge rise\n",
    "```\n"
   ]
  },
  {
   "cell_type": "markdown",
   "metadata": {
    "slideshow": {
     "slide_type": "slide"
    }
   },
   "source": [
    "Eso hará que se agregue el botón de iniciar presentación (destacado en rojo).\n",
    "\n",
    "![](2021-08-02-tutorial-rise-parte-1/install2.png)"
   ]
  },
  {
   "cell_type": "markdown",
   "metadata": {
    "slideshow": {
     "slide_type": "slide"
    }
   },
   "source": [
    "\n",
    "También puedes agregar `rise` a tu archivo `requirements.txt` para que se instale automáticamente al generar un ambiente.\n",
    "\n",
    "En caso de tener problemas, revisa los [detalles adicionales de instalación](https://rise.readthedocs.io/en/stable/installation.html)."
   ]
  },
  {
   "cell_type": "markdown",
   "metadata": {
    "slideshow": {
     "slide_type": "slide"
    }
   },
   "source": [
    "## ¿Cómo configurar lo que está en cada diapositivas? \n",
    "Paciencia, se requiere todavía un paso adicional. \n",
    "\n",
    "En el menú de jupyter notebook, es necesario seleccionar `View/Cell Toolbar/Slideshow` para que permita configurar el tipo de celda para diapositiva. \n",
    "\n",
    "Esto se requiere porque a cada celda del notebook se le agregará metadata para saber en que diapositiva debe ir (o si se debe saltar).\n",
    "\n",
    "![](2021-08-02-tutorial-rise-parte-1/install3.png)"
   ]
  },
  {
   "cell_type": "markdown",
   "metadata": {
    "slideshow": {
     "slide_type": "slide"
    }
   },
   "source": [
    "Eso dejará todo configurado para poder seleccionar el tipo de celda respecto a la diapositiva.\n",
    "\n",
    "![](2021-08-02-tutorial-rise-parte-1/install4.png)"
   ]
  },
  {
   "cell_type": "markdown",
   "metadata": {
    "slideshow": {
     "slide_type": "slide"
    }
   },
   "source": [
    "## ¿Cómo moverse por las slides?\n",
    "\n",
    "Al hacer click en el botón \"Iniciar presentación\", la presentación se iniciará en la celda que esté activa.\n",
    "\n",
    "* Se accede a la próxima diapositiva o fragmento con `Espacio` (o la flecha derecha).\n",
    "* Se retrocede a la diapositiva o fragmento anterior con `Shift Espacio` (o la flecha izquierda).\n",
    "* Se avanza a la proxima sub-diapositiva con `Page Up`.\n",
    "* Se retrocede la sub-diapositiva anterior con `Page Down`.\n",
    "\n",
    "\n",
    "Una diferencia de una presentación típica de PowerPoint es que existen 2 dimensiones: las diapositivas (slides) que avanzan de izquierda a derecha como es tradicional, pero también sub-diapositivas (subslides) que son slides opcionales y que avanzan de arriba a abajo.\n",
    "\n",
    "![](2021-08-02-tutorial-rise-parte-1/revealjs-vertical-slides.gif \"Gif oficial de reveal.js https://revealjs.com/vertical-slides/\")\n",
    "\n",
    "\n",
    "Observación: En general, es dificil recordar el orden de las slides y sub-slides. Yo personalmente nunca uso sub-slides por esta razón y prefiero solo tener orden \"horizontal\"."
   ]
  },
  {
   "cell_type": "markdown",
   "metadata": {
    "slideshow": {
     "slide_type": "slide"
    }
   },
   "source": [
    "## ¿Cómo se configuran las diapositivas?\n",
    "\n",
    "Existen varios tipos de celda con distintas funcionalidades:\n",
    "* `-`: valor por defecto. La celda se muestra con la slide anterior.\n",
    "* `Slide`: inicia una nueva diapositiva (dirección horizontal).\n",
    "* `Sub-slide`: iniciar una nueva sub-diapositiva (dirección vertical).\n",
    "* `Fragment`: se concatena a la celda anterior, pero no se muestra inmediatamente. \n",
    "* `Skip`: no se muestra la celda en las diapositivas.\n",
    "* `Notes`: No se muestra en las diapositivas, sólo se muestra en las notas para el presentador."
   ]
  },
  {
   "cell_type": "markdown",
   "metadata": {
    "slideshow": {
     "slide_type": "slide"
    }
   },
   "source": [
    "## ¿Qué opciones hay?\n",
    "\n",
    "Existen múltiples funcionalides accesibles con el teclado durante la presentación, pero las principales a recordar son:\n",
    "* `?`: ver todos los shortcuts.\n",
    "* `,`: ocultar los botones.\n",
    "* `\\`: poner la pantalla en negro. Útil para discutir algo sin distracciones visuales.\n",
    "* ``:\n",
    "\n",
    "Las funcionalidades se controlan con los siguientes botones:\n",
    "\n",
    "![](2021-08-02-tutorial-rise-parte-1/botones.png)"
   ]
  },
  {
   "cell_type": "markdown",
   "metadata": {
    "slideshow": {
     "slide_type": "slide"
    }
   },
   "source": [
    "## ¿Se puede editar durante la presentación?\n",
    "\n",
    "¡Sí! \n",
    "\n",
    "Es posible editar y ejecutar las celdas de markdown y de código durante la presentación. \n",
    "\n",
    "Se usa el mismo sistema de doble click para acceder a modo edición, y `Alt Enter` para ejecutarla.\n",
    "\n",
    "![](2021-08-02-tutorial-rise-parte-1/editar.gif)"
   ]
  },
  {
   "cell_type": "markdown",
   "metadata": {
    "slideshow": {
     "slide_type": "slide"
    }
   },
   "source": [
    "## ¿Cómo controlo el tamaño?\n",
    "\n",
    "Un problema común es que al conectar el computador a otra pantalla o datashow, no se alcanza a ver en la diapositiva todo el código, texto o imagen. \n",
    "\n",
    "Lo único que debes hacer es usar usar `Ctrl +` y `Ctrl -` para regular el tamaño (`Command +`y `Command -` en Mac), de la misma manera que regulas el tamaño de una página web.\n",
    "\n",
    "![](2021-08-02-tutorial-rise-parte-1/tamano.gif)"
   ]
  },
  {
   "cell_type": "markdown",
   "metadata": {
    "slideshow": {
     "slide_type": "slide"
    }
   },
   "source": [
    "## ¿Dónde están las notas del presentador?\n",
    "\n",
    "Puedes abrir las notas del presentador presionando `t`.\n",
    "\n",
    "Para poder usar las notas del presentador necesitas tener al menos 2 pantallas: una pública para compartir y otra para mantener privada.\n",
    "\n",
    "![](2021-08-02-tutorial-rise-parte-1/notas_presentador.gif)"
   ]
  },
  {
   "cell_type": "markdown",
   "metadata": {
    "slideshow": {
     "slide_type": "slide"
    }
   },
   "source": [
    "## ¿Cómo activo la pizarra?\n",
    "\n",
    "Es posible activar una pizarra (chalkboard) para realizar anotaciones durante la presentación.\n",
    "\n",
    "Para eso, en Edit/Edit Notebook Metadata, es necesario agregar el siguiente texto a la metadata del jupyter notebook:\n",
    "\n",
    "```json\n",
    "{\n",
    " ...\n",
    " \"rise\": {\"enable_chalkboard\": true}\n",
    "}\n",
    "```\n",
    "\n",
    "![](2021-08-02-tutorial-rise-parte-1/metadata.gif)\n",
    "\n",
    "**Observación: Luego de editar la metadata, debes cerrar (detener) el notebook y volver a abrirlo, para que la metadata se cargue.**"
   ]
  },
  {
   "cell_type": "markdown",
   "metadata": {
    "slideshow": {
     "slide_type": "slide"
    }
   },
   "source": [
    "Durante la presentación se puede utilizar la pizarra haciendo click en los íconos, que permiten dibujar en una pizarra o sobre las diapositivas.\n",
    "\n",
    "Es posible cambiar de color de lapiz presionando `s` y `q`. Se puede borrar la pizarra con `-`.\n",
    "\n",
    "![](2021-08-02-tutorial-rise-parte-1/pizarra.gif)\n",
    "\n",
    "Las anotaciones se preservan incluso al cerrar el modo presentación. Sin embargo, no se guardan al cerrar el notebook."
   ]
  },
  {
   "cell_type": "markdown",
   "metadata": {},
   "source": [
    "Eso concluye la primera parte 1 del [tutorial de presentaciones interactivas en jupyter notebook](https://sebastiandres.github.io/blog/tutorial-rise/)."
   ]
  }
 ],
 "metadata": {
  "celltoolbar": "Slideshow",
  "kernelspec": {
   "display_name": "Python 3",
   "language": "python",
   "name": "python3"
  },
  "language_info": {
   "codemirror_mode": {
    "name": "ipython",
    "version": 3
   },
   "file_extension": ".py",
   "mimetype": "text/x-python",
   "name": "python",
   "nbconvert_exporter": "python",
   "pygments_lexer": "ipython3",
   "version": "3.7.4"
  },
  "nbTranslate": {
   "displayLangs": [
    "*"
   ],
   "hotkey": "alt-t",
   "langInMainMenu": true,
   "sourceLang": "en",
   "targetLang": "fr",
   "useGoogleTranslate": true
  },
  "rise": {
   "enable_chalkboard": true
  },
  "varInspector": {
   "cols": {
    "lenName": 16,
    "lenType": 16,
    "lenVar": 40
   },
   "kernels_config": {
    "python": {
     "delete_cmd_postfix": "",
     "delete_cmd_prefix": "del ",
     "library": "var_list.py",
     "varRefreshCmd": "print(var_dic_list())"
    },
    "r": {
     "delete_cmd_postfix": ") ",
     "delete_cmd_prefix": "rm(",
     "library": "var_list.r",
     "varRefreshCmd": "cat(var_dic_list()) "
    }
   },
   "position": {
    "height": "145px",
    "left": "1548px",
    "right": "20px",
    "top": "118px",
    "width": "350px"
   },
   "types_to_exclude": [
    "module",
    "function",
    "builtin_function_or_method",
    "instance",
    "_Feature"
   ],
   "window_display": false
  }
 },
 "nbformat": 4,
 "nbformat_minor": 4
}
