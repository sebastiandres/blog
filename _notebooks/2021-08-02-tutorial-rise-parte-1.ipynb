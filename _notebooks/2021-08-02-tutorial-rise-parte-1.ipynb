{
 "cells": [
  {
   "cell_type": "markdown",
   "metadata": {
    "slideshow": {
     "slide_type": "skip"
    }
   },
   "source": [
    "### Tutorial de RISE - parte 1\n",
    "> Aspectos básicos para hacer presentaciones interactivas con jupyter notebook\n",
    "\n",
    "- featured: false\n",
    "- hide: false\n",
    "- toc: true \n",
    "- badges: true\n",
    "- comments: true\n",
    "- categories: [jupyter, rise]\n",
    "- image: 2021-08-01-rise/basic_usage.gif\n",
    "- permalink: /tutorial-rise-1/"
   ]
  },
  {
   "cell_type": "markdown",
   "metadata": {
    "slideshow": {
     "slide_type": "slide"
    }
   },
   "source": [
    "Esta es la parte 1 de 3 del [tutorial de presentaciones interactivas en jupyter notebook](https://sebastiandres.github.io/blog/tutorial-rise/)."
   ]
  },
  {
   "cell_type": "markdown",
   "metadata": {
    "slideshow": {
     "slide_type": "slide"
    }
   },
   "source": [
    "## ¿Qué es RISE?\n",
    "\n",
    "RISE es una extensión a jupyter notebook que, en lugar de desplegar las celdas en una larga página web, las despliega en una presentación usando la librería [revealjs](https://revealjs.com/). Sigue siendo una página web, pero se controla el progreso de las celdas."
   ]
  },
  {
   "cell_type": "markdown",
   "metadata": {
    "slideshow": {
     "slide_type": "slide"
    }
   },
   "source": [
    "## ¿Cómo instalar?\n",
    "\n",
    "La instalación de la extensión RISE es extremadamente fácil.\n",
    "Basta con usar pip o conda:\n",
    "\n",
    "```\n",
    "pip install rise\n",
    "```\n",
    "\n",
    "o\n",
    "\n",
    "```\n",
    "conda install -c conda-forge rise\n",
    "```\n",
    "\n",
    "COLOCAR IMÁGEN SIN RISE\n",
    "\n",
    "IMAGEN PIP\n",
    "\n",
    "IMAGEN CON RISE\n",
    "\n",
    "También puedes agregarlo a tu archivo `requirements.txt` para que se instale automáticamente al generar un ambiente.\n",
    "\n",
    "En caso de tener problemas, revisa los [detalles adicionales de instalación](https://rise.readthedocs.io/en/stable/installation.html).\n"
   ]
  },
  {
   "cell_type": "markdown",
   "metadata": {
    "slideshow": {
     "slide_type": "slide"
    }
   },
   "source": [
    "## ¿Qué contenido poner?\n",
    "\n",
    "Puedes mezclar contenido usando las celdas de markdown y código, según necesites: \n",
    "* **Markdown**: texto, latex, imágenes, tablas, etc.\n",
    "* **Código**: código, gráficos simples o interactivos, videos, sonido, iframes, javascript, entre otros."
   ]
  },
  {
   "cell_type": "markdown",
   "metadata": {
    "slideshow": {
     "slide_type": "slide"
    }
   },
   "source": [
    "## ¿Cómo configurar las diapositivas? \n",
    "A cada celda del notebook se le agregará metadata para saber cómo mostrarla en la presentación. El primer paso es entonces ver el tipo de slide de la celda. Para eso, deber ir a `View/Cell Toolbar/Slideshow`:\n",
    "\n",
    "IMAGE\n",
    "\n",
    "Existen varios tipos de celda con distintas funciones:\n",
    "* `-`: valor por defecto. Se concatena a la slide anterior.\n",
    "* `Slide`: iniciar una nueva diapositiva.\n",
    "* `Sub-slide`: iniciar una nueva sub-diapositiva.\n",
    "* `Fragment`: permite animar progresivamente. \n",
    "* `Skip`: salta (no muestra) la celda.\n",
    "* `Notes`: notas para el presentador.\n",
    "\n",
    "Diagrama con estados."
   ]
  },
  {
   "cell_type": "markdown",
   "metadata": {
    "slideshow": {
     "slide_type": "slide"
    }
   },
   "source": [
    "## ¿Cómo moverse por las slides?\n",
    "\n",
    "* Se accede a la próxima diapositiva o fragmento con `Espacio` (o la flecha derecha).\n",
    "* Se retrocede a la diapositiva o fragmento anterior con `Shift Espacio` (o la flecha izquierda).\n",
    "* Se avanza a la proxima sub-diapositiva con `Page Up`.\n",
    "* Se retrocede la sub-diapositiva anterior con `Page Down`.\n",
    "\n",
    "OBS: En general, es dificil recordar el orden de las slides y sub-slides. Yo personalmente nunca uso sub-slides por esta razón."
   ]
  },
  {
   "cell_type": "markdown",
   "metadata": {
    "slideshow": {
     "slide_type": "slide"
    }
   },
   "source": [
    "## ¿Qué opciones hay?\n",
    "\n",
    "Las funcionalidades se controlan con los siguientes botones:\n",
    "\n",
    "![](2021-08-02-tutorial-rise-parte-1/botones.png)"
   ]
  },
  {
   "cell_type": "markdown",
   "metadata": {
    "slideshow": {
     "slide_type": "slide"
    }
   },
   "source": [
    "## ¿Se puede editar durante la presentación?\n",
    "\n",
    "Es posible editar y ejecutar las celdas de markdown y de código durante la presentación. \n",
    "Se usa el mismo sistema de doble click para acceder a modo edición, y `Alt Enter` para ejecutarla.\n",
    "\n",
    "IMAGEN"
   ]
  },
  {
   "cell_type": "markdown",
   "metadata": {
    "slideshow": {
     "slide_type": "slide"
    }
   },
   "source": [
    "## ¿Cómo controlo el tamaño?\n",
    "\n",
    "Un problema común es que al conectar el computador a otra pantalla o datashow, no se alcanza a ver en la diapositiva todo el código, texto o imagen. \n",
    "\n",
    "Lo único que debes hacer es usar usar `Ctrl +` y `Ctrl -` para regular el tamaño (`Command +`y `Command -` en Mac), de la misma manera que regulas el tamaño de una página web."
   ]
  },
  {
   "cell_type": "markdown",
   "metadata": {
    "slideshow": {
     "slide_type": "slide"
    }
   },
   "source": [
    "## ¿Dónde están las notas del presentador?\n",
    "\n",
    "Puedes abrir las notas del presentador presionando `t`.\n",
    "\n",
    "Para poder usar las notas del presentador necesitas tener al menos 2 pantallas: una pública para compartir y otra para mantener privada."
   ]
  },
  {
   "cell_type": "markdown",
   "metadata": {
    "slideshow": {
     "slide_type": "slide"
    }
   },
   "source": [
    "## ¿Cómo activo la pizarra?\n",
    "\n",
    "Es posible activar una pizarra (chalkboard) para realizar anotaciones durante la presentación.\n",
    "\n",
    "Para eso, en Edit/Edit Notebook Metadata, es necesario agregar el siguiente texto a la metadata del jupyter notebook:\n",
    "\n",
    "```json\n",
    "{\n",
    " ...\n",
    " \"rise\": {\"enable_chalkboard\": true}\n",
    "}\n",
    "```\n",
    "\n",
    "IMAGEN\n",
    "\n",
    "Durante la presentación se puede utilizar la pizarra como muestra en la siguiente imagen:\n",
    "\n",
    "IMAGEN - CHALKBOARD\n",
    "\n",
    "Las anotaciones se preservan incluso al cerrar el modo presentación. Sin embargo, no se guardan al cerrar el notebook."
   ]
  }
 ],
 "metadata": {
  "celltoolbar": "Slideshow",
  "kernelspec": {
   "display_name": "Python 3 (ipykernel)",
   "language": "python",
   "name": "python3"
  },
  "language_info": {
   "codemirror_mode": {
    "name": "ipython",
    "version": 3
   },
   "file_extension": ".py",
   "mimetype": "text/x-python",
   "name": "python",
   "nbconvert_exporter": "python",
   "pygments_lexer": "ipython3",
   "version": "3.7.4"
  },
  "nbTranslate": {
   "displayLangs": [
    "*"
   ],
   "hotkey": "alt-t",
   "langInMainMenu": true,
   "sourceLang": "en",
   "targetLang": "fr",
   "useGoogleTranslate": true
  },
  "rise": {
   "_backimage": "path/to/mybackimage.png",
   "_footer": "<h3>NAME, DATE</h3>",
   "_header": "<h1>PRESENTATION NAME // EVENTs</h1>",
   "_theme_options": [
    "black",
    "white",
    "league",
    "beige",
    "sky",
    "night",
    "serif"
   ],
   "_transition_options": [
    "none",
    "fade",
    "slide",
    "convex",
    "concave",
    "zoom"
   ],
   "autolauch": false,
   "enable_chalkboard": true,
   "theme": "serif",
   "transition": "slide"
  },
  "varInspector": {
   "cols": {
    "lenName": 16,
    "lenType": 16,
    "lenVar": 40
   },
   "kernels_config": {
    "python": {
     "delete_cmd_postfix": "",
     "delete_cmd_prefix": "del ",
     "library": "var_list.py",
     "varRefreshCmd": "print(var_dic_list())"
    },
    "r": {
     "delete_cmd_postfix": ") ",
     "delete_cmd_prefix": "rm(",
     "library": "var_list.r",
     "varRefreshCmd": "cat(var_dic_list()) "
    }
   },
   "types_to_exclude": [
    "module",
    "function",
    "builtin_function_or_method",
    "instance",
    "_Feature"
   ],
   "window_display": false
  }
 },
 "nbformat": 4,
 "nbformat_minor": 4
}
