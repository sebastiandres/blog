{
 "cells": [
  {
   "cell_type": "markdown",
   "metadata": {
    "slideshow": {
     "slide_type": "skip"
    }
   },
   "source": [
    "# Tutorial de RISE - parte 3\n",
    "> Aspectos avanzados para hacer presentaciones interactivas con jupyter notebooks\n",
    "\n",
    "- featured: false\n",
    "- hide: false\n",
    "- toc: true\n",
    "- badges: true\n",
    "- comments: true\n",
    "- categories: [jupyter, rise]\n",
    "- image: images/preview/rise.gif\n",
    "- permalink: /tutorial-rise-3/"
   ]
  },
  {
   "cell_type": "markdown",
   "metadata": {
    "slideshow": {
     "slide_type": "slide"
    }
   },
   "source": [
    "Esta es la parte 3 de 3 del [tutorial de presentaciones interactivas en jupyter notebook](https://sebastiandres.github.io/blog/tutorial-rise/).  WORK-IN-PROGRESS."
   ]
  },
  {
   "cell_type": "markdown",
   "metadata": {
    "slideshow": {
     "slide_type": "slide"
    }
   },
   "source": [
    "## ¿Cómo puedo configurar texto y columnas?\n",
    "\n",
    "Como las celdas de markdown aceptan html, es posible usar varios trucos. \n",
    "Como por ejemplo poner doble columna… para tener 1 columna con texto y otra con imagen.\n",
    "\n",
    "O por ejemplo, hacer animaciones...\n",
    "\n",
    "\n",
    "Pero en general, mi consejo: keep it simple. Gastar 1 hora en una slide de 1 minuto es una mala inversión."
   ]
  },
  {
   "cell_type": "markdown",
   "metadata": {
    "slideshow": {
     "slide_type": "slide"
    }
   },
   "source": [
    "## Convierte tus presentaciones automáticamente\n",
    "\n",
    "Cree un sitio que permite convertir una presentación powerpoint a jupyter notebook + rise de manera automática.\n",
    "Eso te ahorrará un buen tiempo de copiar y pegar texto. Ya incluye la opcion de 2 columnas, pero no código automático.\n",
    "\n",
    "IMAGEN CONVERTIR."
   ]
  },
  {
   "cell_type": "markdown",
   "metadata": {
    "slideshow": {
     "slide_type": "slide"
    }
   },
   "source": [
    "## ¿Cómo puedo hacer actividades interactivas?\n",
    "\n",
    "Usa IFrames.\n",
    "\n",
    "Es muy importante hacer 3 preguntas al finalizar toda presentación. \n",
    "Termina tu presentación pidiendo retroalimentación."
   ]
  },
  {
   "cell_type": "markdown",
   "metadata": {
    "slideshow": {
     "slide_type": "slide"
    }
   },
   "source": [
    "## Usa un teclado inalámbrico\n",
    "Un teclado inalámbrico ayuda en contextos presenciales, para que no necesites estar pegado al computador.\n",
    "\n",
    "En contextos de clases, permite que otros puedan completar código."
   ]
  },
  {
   "cell_type": "markdown",
   "metadata": {
    "slideshow": {
     "slide_type": "slide"
    }
   },
   "source": [
    "## Personalización completa\n",
    "\n",
    "Adding custom CSS\n",
    "RISE looks for two css files to apply CSS changes on top of the slideshow view:\n",
    "\n",
    "First, it attemps to load rise.css, and hence this will be applied to all notebooks in the current directory;\n",
    "Second, it attempts to load the_notebook_name.css and so this will hence be only applied to the_notebook_name.ipynb.\n",
    "Both files need to be placed alongside with the notebook of interest, i.e. in the same directory. You can see some examples using this customization with RISE/examples/showflow.ipynb."
   ]
  },
  {
   "cell_type": "code",
   "execution_count": null,
   "metadata": {},
   "outputs": [],
   "source": []
  }
 ],
 "metadata": {
  "celltoolbar": "Slideshow",
  "kernelspec": {
   "display_name": "Python 3",
   "language": "python",
   "name": "python3"
  },
  "language_info": {
   "codemirror_mode": {
    "name": "ipython",
    "version": 3
   },
   "file_extension": ".py",
   "mimetype": "text/x-python",
   "name": "python",
   "nbconvert_exporter": "python",
   "pygments_lexer": "ipython3",
   "version": "3.7.4"
  },
  "nbTranslate": {
   "displayLangs": [
    "*"
   ],
   "hotkey": "alt-t",
   "langInMainMenu": true,
   "sourceLang": "en",
   "targetLang": "fr",
   "useGoogleTranslate": true
  },
  "rise": {
   "_backimage": "path/to/mybackimage.png",
   "_footer": "<h3>NAME, DATE</h3>",
   "_header": "<h1>PRESENTATION NAME // EVENTs</h1>",
   "_theme_options": [
    "black",
    "white",
    "league",
    "beige",
    "sky",
    "night",
    "serif"
   ],
   "_transition_options": [
    "none",
    "fade",
    "slide",
    "convex",
    "concave",
    "zoom"
   ],
   "autolauch": true,
   "enable_chalkboard": true,
   "theme": "serif",
   "transition": "slide"
  },
  "varInspector": {
   "cols": {
    "lenName": 16,
    "lenType": 16,
    "lenVar": 40
   },
   "kernels_config": {
    "python": {
     "delete_cmd_postfix": "",
     "delete_cmd_prefix": "del ",
     "library": "var_list.py",
     "varRefreshCmd": "print(var_dic_list())"
    },
    "r": {
     "delete_cmd_postfix": ") ",
     "delete_cmd_prefix": "rm(",
     "library": "var_list.r",
     "varRefreshCmd": "cat(var_dic_list()) "
    }
   },
   "types_to_exclude": [
    "module",
    "function",
    "builtin_function_or_method",
    "instance",
    "_Feature"
   ],
   "window_display": false
  }
 },
 "nbformat": 4,
 "nbformat_minor": 4
}
