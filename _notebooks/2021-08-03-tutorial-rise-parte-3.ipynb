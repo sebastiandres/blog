{
 "cells": [
  {
   "cell_type": "markdown",
   "metadata": {
    "slideshow": {
     "slide_type": "skip"
    }
   },
   "source": [
    "# Tutorial de RISE - parte 3\n",
    "> Aspectos avanzados para hacer presentaciones interactivas con jupyter notebooks\n",
    "\n",
    "- featured: false\n",
    "- hide: false\n",
    "- toc: true\n",
    "- badges: true\n",
    "- comments: true\n",
    "- categories: [jupyter, rise]\n",
    "- image: images/preview/rise.gif\n",
    "- permalink: /tutorial-rise-3/"
   ]
  },
  {
   "cell_type": "markdown",
   "metadata": {
    "slideshow": {
     "slide_type": "slide"
    }
   },
   "source": [
    "Esta es la parte 3 de 3 del [tutorial de presentaciones interactivas en jupyter notebook](https://sebastiandres.github.io/blog/tutorial-rise/)."
   ]
  },
  {
   "cell_type": "markdown",
   "metadata": {
    "slideshow": {
     "slide_type": "slide"
    }
   },
   "source": [
    "## ¿Cómo puedo configurar texto y columnas?\n",
    "\n",
    "Como las celdas de markdown aceptan html, es posible usar todos sus trucos. Uno de éstos permite generar dos columnas, típicamente para tener una columna con texto y otra con una imagen (estática o gif)."
   ]
  },
  {
   "cell_type": "markdown",
   "metadata": {},
   "source": [
    "Texto anterior.\n",
    "<div style=\"clear: both;\">\n",
    "    <div style=\"float: left; width: 50%; background-color:#FF0000;\">UNO</div>\n",
    "    <div style=\"float: left; width: 10%; background-color:#FFFF00;\">DOS</div>\n",
    "    <div style=\"float: left; width: 30%; background-color:#00FF00;\">TRES</div>\n",
    "</div>\n",
    "Texto posterior."
   ]
  },
  {
   "cell_type": "markdown",
   "metadata": {},
   "source": [
    "Texto anterior.\n",
    "\n",
    "<div>\n",
    "    <div style=\"display: inline-block; width: 50%; background-color:#FF0000;\">UNO</div>\n",
    "    <div style=\"display: inline-block; width: 10%; background-color:#FFFF00;\">DOS</div>\n",
    "    <div style=\"display: inline-block; width: 30%; background-color:#00FF00;\">TRES</div>\n",
    "</div>\n",
    "Texto posterior."
   ]
  },
  {
   "cell_type": "markdown",
   "metadata": {},
   "source": [
    "Texto anterior.\n",
    "<div>\n",
    "    <div style=\"float: left; width: 50%; background-color:#FF0000;\">Lorem ipsum</div>\n",
    "    <div style=\"float: left; width: 10%; background-color:#FFFF00;\"></div>\n",
    "    <div style=\"float: left; width: 30%; background-color:#00FF00;\">\n",
    "    <img src=\"2020-03-19-rise-columns/lore_ipsum.png\" alt=\"LoreIpsum\">\n",
    "    </div>\n",
    "</div>\n",
    "Texto posterior."
   ]
  },
  {
   "cell_type": "markdown",
   "metadata": {},
   "source": [
    "<div>\n",
    "    <div style=\"display: inline-block;  width: 50%; background-color:#FF0000;\">\n",
    "    Lorem ipsum\n",
    "    </div>\n",
    "    <div style=\"display: inline-block; width: 10%; background-color:#FFFF00;\"></div>\n",
    "    <div style=\"display: inline-block; vertical-align: text-top; width: 30%; background-color:#00FF00;\">\n",
    "    <img src=\"2020-03-19-rise-columns/lore_ipsum.png\" alt=\"LoreIpsum\">\n",
    "    </div>\n",
    "</div>"
   ]
  },
  {
   "cell_type": "markdown",
   "metadata": {},
   "source": [
    "Pero en general, hay que segur el consejo: **keep it simple**. \n",
    "\n",
    "Gastar 1 hora en una slide de 1 minuto es una mala inversión."
   ]
  },
  {
   "cell_type": "markdown",
   "metadata": {
    "slideshow": {
     "slide_type": "slide"
    }
   },
   "source": [
    "## Convierte tus presentaciones automáticamente\n",
    "\n",
    "Uno de los primeros desafíos para comenzar a usar notebook + rise es convertir el contenido de las presentaciones que ya están en powerpoint. Para solucionar eso, creé un sitio que permite convertir una presentación powerpoint a jupyter notebook + rise de manera automática.  Ya incluye la opcion de 2 columnas. No es perfecto, pero te ahorrará un buen tiempo de copiar y pegar texto.\n",
    "\n",
    "Aplicación para convertir [pptx a rise](https://sebastiandres.github.io/streamlit_ppt2rise/)\n",
    "\n",
    "IMAGEN EJEMPLO\n",
    "\n"
   ]
  },
  {
   "cell_type": "markdown",
   "metadata": {
    "slideshow": {
     "slide_type": "slide"
    }
   },
   "source": [
    "## ¿Cómo puedo hacer actividades interactivas?\n",
    "\n",
    "Para incluir actividades interactivas es posible usar `IFrames` en una celda de código. De esa manera, es posible embeber dentro del notebook y una diapositiva una página web con una actividad."
   ]
  },
  {
   "cell_type": "code",
   "execution_count": 2,
   "metadata": {},
   "outputs": [
    {
     "data": {
      "text/html": [
       "\n",
       "        <iframe\n",
       "            width=\"1000\"\n",
       "            height=\"500\"\n",
       "            src=\"https://es.wikipedia.org/wiki/Iframe\"\n",
       "            frameborder=\"0\"\n",
       "            allowfullscreen\n",
       "        ></iframe>\n",
       "        "
      ],
      "text/plain": [
       "<IPython.lib.display.IFrame at 0x105ac0bd0>"
      ]
     },
     "execution_count": 2,
     "metadata": {},
     "output_type": "execute_result"
    }
   ],
   "source": [
    "from IPython.display import IFrame\n",
    "IFrame(\"https://es.wikipedia.org/wiki/Iframe\", width=1000, height=500)"
   ]
  },
  {
   "cell_type": "markdown",
   "metadata": {},
   "source": [
    "Algunas alternativas son: https://www.mentimeter.com/, https://kahoot.com/ y https://quizizz.com/\n",
    "                \n",
    "Importante: En la diapositiva coloca el IFrame donde se mostrarán los resultados de la actividad interactiva. Recuerda colocar una imagen QR o una descripción de cómo deben acceder. "
   ]
  },
  {
   "cell_type": "code",
   "execution_count": null,
   "metadata": {
    "slideshow": {
     "slide_type": "slide"
    }
   },
   "outputs": [],
   "source": [
    "from IPython.display import IFrame\n",
    "IFrame(\"https://es.wikipedia.org/wiki/Iframe\", width=1000, height=500)"
   ]
  },
  {
   "cell_type": "markdown",
   "metadata": {},
   "source": [
    "## ¿Cómo hacer encuestas?\n",
    "Es muy importante recibir retroalimentación de la presentación para poder mejorar. Recomiendo hacer 3 preguntas al finalizar toda presentación:\n",
    "* ¿Qué fue lo que más te gustó?\n",
    "* ¿Qué cambiarías?\n",
    "* ¿\n",
    "\n",
    "Esto puedes lograrlo embebiendo una encuesta de Google Forms, Microsoft Forms u otros mediante un IFrame."
   ]
  },
  {
   "cell_type": "code",
   "execution_count": 3,
   "metadata": {},
   "outputs": [
    {
     "data": {
      "text/html": [
       "\n",
       "        <iframe\n",
       "            width=\"1000\"\n",
       "            height=\"500\"\n",
       "            src=\"https://es.wikipedia.org/wiki/Iframe\"\n",
       "            frameborder=\"0\"\n",
       "            allowfullscreen\n",
       "        ></iframe>\n",
       "        "
      ],
      "text/plain": [
       "<IPython.lib.display.IFrame at 0x105aed4d0>"
      ]
     },
     "execution_count": 3,
     "metadata": {},
     "output_type": "execute_result"
    }
   ],
   "source": [
    "# Encuesta\n",
    "from IPython.display import IFrame\n",
    "IFrame(\"https://es.wikipedia.org/wiki/Iframe\", width=1000, height=500)"
   ]
  },
  {
   "cell_type": "markdown",
   "metadata": {
    "slideshow": {
     "slide_type": "slide"
    }
   },
   "source": [
    "## Usa un teclado inalámbrico\n",
    "\n",
    "En charlas y clases resulta cómodo tener un teclado y mouse inalámbrico. Esto permite que no tengas que estar cerca del notebook, de manera de ocupar de mejor manera el escenario.\n",
    "\n",
    "Resulta práctico también para crear la posibilidad que un asistente de la charla pueda editar una celda de código."
   ]
  },
  {
   "cell_type": "markdown",
   "metadata": {
    "slideshow": {
     "slide_type": "slide"
    }
   },
   "source": [
    "## Personalización completa\n",
    "\n",
    "Adding custom CSS\n",
    "RISE looks for two css files to apply CSS changes on top of the slideshow view:\n",
    "\n",
    "First, it attemps to load rise.css, and hence this will be applied to all notebooks in the current directory;\n",
    "Second, it attempts to load the_notebook_name.css and so this will hence be only applied to the_notebook_name.ipynb.\n",
    "Both files need to be placed alongside with the notebook of interest, i.e. in the same directory. You can see some examples using this customization with RISE/examples/showflow.ipynb."
   ]
  },
  {
   "cell_type": "code",
   "execution_count": null,
   "metadata": {},
   "outputs": [],
   "source": []
  }
 ],
 "metadata": {
  "celltoolbar": "Slideshow",
  "kernelspec": {
   "display_name": "Python 3",
   "language": "python",
   "name": "python3"
  },
  "language_info": {
   "codemirror_mode": {
    "name": "ipython",
    "version": 3
   },
   "file_extension": ".py",
   "mimetype": "text/x-python",
   "name": "python",
   "nbconvert_exporter": "python",
   "pygments_lexer": "ipython3",
   "version": "3.7.4"
  },
  "nbTranslate": {
   "displayLangs": [
    "*"
   ],
   "hotkey": "alt-t",
   "langInMainMenu": true,
   "sourceLang": "en",
   "targetLang": "fr",
   "useGoogleTranslate": true
  },
  "rise": {
   "_backimage": "path/to/mybackimage.png",
   "_footer": "<h3>NAME, DATE</h3>",
   "_header": "<h1>PRESENTATION NAME // EVENTs</h1>",
   "_theme_options": [
    "black",
    "white",
    "league",
    "beige",
    "sky",
    "night",
    "serif"
   ],
   "_transition_options": [
    "none",
    "fade",
    "slide",
    "convex",
    "concave",
    "zoom"
   ],
   "autolauch": true,
   "enable_chalkboard": true,
   "theme": "serif",
   "transition": "slide"
  },
  "varInspector": {
   "cols": {
    "lenName": 16,
    "lenType": 16,
    "lenVar": 40
   },
   "kernels_config": {
    "python": {
     "delete_cmd_postfix": "",
     "delete_cmd_prefix": "del ",
     "library": "var_list.py",
     "varRefreshCmd": "print(var_dic_list())"
    },
    "r": {
     "delete_cmd_postfix": ") ",
     "delete_cmd_prefix": "rm(",
     "library": "var_list.r",
     "varRefreshCmd": "cat(var_dic_list()) "
    }
   },
   "types_to_exclude": [
    "module",
    "function",
    "builtin_function_or_method",
    "instance",
    "_Feature"
   ],
   "window_display": false
  }
 },
 "nbformat": 4,
 "nbformat_minor": 4
}
